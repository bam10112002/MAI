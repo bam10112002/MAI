{
 "cells": [
  {
   "cell_type": "code",
   "execution_count": 1,
   "metadata": {},
   "outputs": [],
   "source": [
    "# Функция сдвига координат прямоугольника\n",
    "def shift_matrix(matr, delta_x, delta_y):\n",
    "    return matr + matrix([ [delta_x, delta_y] for i in range(matr.nrows()) ])\n"
   ]
  },
  {
   "cell_type": "code",
   "execution_count": 2,
   "metadata": {},
   "outputs": [],
   "source": [
    "# Создаем матрицу поворота\n",
    "def rotation_matrix(angle):\n",
    "    phi = math.radians(angle)\n",
    "    return matrix([\n",
    "        [cos(phi), -sin(phi)],\n",
    "        [sin(phi), cos(phi)]\n",
    "    ])\n"
   ]
  },
  {
   "cell_type": "code",
   "execution_count": null,
   "metadata": {},
   "outputs": [],
   "source": []
  },
  {
   "cell_type": "code",
   "execution_count": 3,
   "metadata": {},
   "outputs": [],
   "source": [
    "# Задаем прямоугольник\n",
    "height = 2\n",
    "width = 2\n",
    "\n",
    "rectangle = matrix([\n",
    "    [0, 0],\n",
    "    [0, height],\n",
    "    [width, height],\n",
    "    [width, 0],\n",
    "    [0, 0]\n",
    "    ])\n"
   ]
  },
  {
   "cell_type": "code",
   "execution_count": 4,
   "metadata": {},
   "outputs": [],
   "source": [
    "newrectangle = []\n",
    "newrectangle = rectangle * rotation_matrix(-45)\n",
    "newrectangle = shift_matrix(newrectangle, 2, 0.5)\n",
    "\n",
    "rectangle = shift_matrix(rectangle, 1, 0)"
   ]
  },
  {
   "cell_type": "code",
   "execution_count": 5,
   "metadata": {},
   "outputs": [
    {
     "data": {
      "image/png": "[encoded data removed]",
      "text/plain": [
       "Graphics object consisting of 2 graphics primitives"
      ]
     },
     "metadata": {},
     "output_type": "display_data"
    }
   ],
   "source": [
    "lines = line(newrectangle, color = 'orange')\n",
    "lines = lines + line(rectangle, color = 'orange')\n",
    "\n",
    "show(lines, xmin = 0.0, xmax = 12.0, ymin = 0.0, ymax = 12.0, aspect_ratio = 1)"
   ]
  },
  {
   "cell_type": "code",
   "execution_count": null,
   "metadata": {},
   "outputs": [],
   "source": []
  }
 ],
 "metadata": {
  "kernelspec": {
   "display_name": "SageMath 9.2",
   "language": "sage",
   "name": "sagemath"
  },
  "language_info": {
   "codemirror_mode": {
    "name": "ipython",
    "version": 3
   },
   "file_extension": ".py",
   "mimetype": "text/x-python",
   "name": "python",
   "nbconvert_exporter": "python",
   "pygments_lexer": "ipython3",
   "version": "3.7.7"
  }
 },
 "nbformat": 4,
 "nbformat_minor": 4
}
