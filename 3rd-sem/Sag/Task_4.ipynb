{
 "cells": [
  {
   "cell_type": "code",
   "execution_count": 11,
   "metadata": {},
   "outputs": [],
   "source": [
    "a,b,c,d = var(\"a\", \"b\", \"c\", \"d\")\n",
    "x = var(\"x\")\n"
   ]
  },
  {
   "cell_type": "code",
   "execution_count": 12,
   "metadata": {
    "scrolled": true
   },
   "outputs": [
    {
     "data": {
      "text/html": [
       "<html><script type=\"math/tex; mode=display\">\\newcommand{\\Bold}[1]{\\mathbf{#1}}\\verb|y(x)=| a x^{3} + b x^{2} + c x + d</script></html>"
      ],
      "text/latex": [
       "\\begin{math}\n",
       "\\newcommand{\\Bold}[1]{\\mathbf{#1}}\\verb|y(x)=| a x^{3} + b x^{2} + c x + d\n",
       "\\end{math}"
      ],
      "text/plain": [
       "'y(x)=' a*x^3 + b*x^2 + c*x + d"
      ]
     },
     "metadata": {},
     "output_type": "display_data"
    }
   ],
   "source": [
    "y = a*x**3 + b*x**2 + c*x + d;\n",
    "show(\"y(x)=\",y)\n",
    "\n",
    "a = 6\n",
    "b = 342\n",
    "c = 54\n",
    "d = -27"
   ]
  },
  {
   "cell_type": "code",
   "execution_count": 13,
   "metadata": {},
   "outputs": [
    {
     "data": {
      "text/html": [
       "<html><script type=\"math/tex; mode=display\">\\newcommand{\\Bold}[1]{\\mathbf{#1}}\\verb|p|\\phantom{\\verb!x!}\\verb|=| -1074</script></html>"
      ],
      "text/latex": [
       "\\begin{math}\n",
       "\\newcommand{\\Bold}[1]{\\mathbf{#1}}\\verb|p|\\phantom{\\verb!x!}\\verb|=| -1074\n",
       "\\end{math}"
      ],
      "text/plain": [
       "'p = ' -1074"
      ]
     },
     "metadata": {},
     "output_type": "display_data"
    },
    {
     "data": {
      "text/html": [
       "<html><script type=\"math/tex; mode=display\">\\newcommand{\\Bold}[1]{\\mathbf{#1}}\\verb|q|\\phantom{\\verb!x!}\\verb|=| \\frac{27085}{2}</script></html>"
      ],
      "text/latex": [
       "\\begin{math}\n",
       "\\newcommand{\\Bold}[1]{\\mathbf{#1}}\\verb|q|\\phantom{\\verb!x!}\\verb|=| \\frac{27085}{2}\n",
       "\\end{math}"
      ],
      "text/plain": [
       "'q = ' 27085/2"
      ]
     },
     "metadata": {},
     "output_type": "display_data"
    }
   ],
   "source": [
    "var(\"p\", \"q\")\n",
    "p = (3*a*c - b**2)/(3*a**2)\n",
    "q = ((2*b**3)/(27*a**3)) - ((b*c)/(3*a**2))+ (d/a)\n",
    "show(\"p = \",p)\n",
    "show(\"q = \",q)"
   ]
  },
  {
   "cell_type": "code",
   "execution_count": 14,
   "metadata": {},
   "outputs": [
    {
     "data": {
      "text/html": [
       "<html><script type=\"math/tex; mode=display\">\\newcommand{\\Bold}[1]{\\mathbf{#1}}\\verb|Q|\\phantom{\\verb!x!}\\verb|=| -\\frac{526167}{16}</script></html>"
      ],
      "text/latex": [
       "\\begin{math}\n",
       "\\newcommand{\\Bold}[1]{\\mathbf{#1}}\\verb|Q|\\phantom{\\verb!x!}\\verb|=| -\\frac{526167}{16}\n",
       "\\end{math}"
      ],
      "text/plain": [
       "'Q = ' -526167/16"
      ]
     },
     "metadata": {},
     "output_type": "display_data"
    }
   ],
   "source": [
    "Q = ((p/3)**3) + ((q/2)**2)\n",
    "show (\"Q = \", Q)"
   ]
  },
  {
   "cell_type": "code",
   "execution_count": 15,
   "metadata": {},
   "outputs": [
    {
     "data": {
      "text/html": [
       "<html><script type=\"math/tex; mode=display\">\\newcommand{\\Bold}[1]{\\mathbf{#1}}\\frac{1}{2} \\, \\sqrt{-3} - \\frac{1}{2}</script></html>"
      ],
      "text/latex": [
       "\\begin{math}\n",
       "\\newcommand{\\Bold}[1]{\\mathbf{#1}}\\frac{1}{2} \\, \\sqrt{-3} - \\frac{1}{2}\n",
       "\\end{math}"
      ],
      "text/plain": [
       "1/2*sqrt(-3) - 1/2"
      ]
     },
     "metadata": {},
     "output_type": "display_data"
    }
   ],
   "source": [
    "u1 = ((-q/2) + sqrt(Q))**(1/3)\n",
    "v1 = ((-q/2) - sqrt(Q))**(1/3)\n",
    "\n",
    "Eps = -1/2 + (sqrt(-3))/2\n",
    "show(Eps)"
   ]
  },
  {
   "cell_type": "code",
   "execution_count": 16,
   "metadata": {},
   "outputs": [],
   "source": [
    "z = [u1 + v1\n",
    "     , u1*Eps + v1*Eps**2\n",
    "     , v1*Eps + u1*Eps**2\n",
    "    ]"
   ]
  },
  {
   "cell_type": "code",
   "execution_count": 17,
   "metadata": {},
   "outputs": [
    {
     "data": {
      "text/html": [
       "<html><script type=\"math/tex; mode=display\">\\newcommand{\\Bold}[1]{\\mathbf{#1}}\\verb|z0|\\phantom{\\verb!x!}\\verb|=| {\\left(\\frac{3}{4} i \\, \\sqrt{58463} - \\frac{27085}{4}\\right)}^{\\frac{1}{3}} + {\\left(-\\frac{3}{4} i \\, \\sqrt{58463} - \\frac{27085}{4}\\right)}^{\\frac{1}{3}} \\phantom{\\verb!x!}\\verb|=| 19.21</script></html>"
      ],
      "text/latex": [
       "\\begin{math}\n",
       "\\newcommand{\\Bold}[1]{\\mathbf{#1}}\\verb|z0|\\phantom{\\verb!x!}\\verb|=| {\\left(\\frac{3}{4} i \\, \\sqrt{58463} - \\frac{27085}{4}\\right)}^{\\frac{1}{3}} + {\\left(-\\frac{3}{4} i \\, \\sqrt{58463} - \\frac{27085}{4}\\right)}^{\\frac{1}{3}} \\phantom{\\verb!x!}\\verb|=| 19.21\n",
       "\\end{math}"
      ],
      "text/plain": [
       "'z0 = ' (3/4*I*sqrt(58463) - 27085/4)^(1/3) + (-3/4*I*sqrt(58463) - 27085/4)^(1/3) ' = ' 19.21"
      ]
     },
     "metadata": {},
     "output_type": "display_data"
    },
    {
     "data": {
      "text/html": [
       "<html><script type=\"math/tex; mode=display\">\\newcommand{\\Bold}[1]{\\mathbf{#1}}\\verb|z1|\\phantom{\\verb!x!}\\verb|=| \\frac{1}{4} \\, {\\left(-\\frac{3}{4} i \\, \\sqrt{58463} - \\frac{27085}{4}\\right)}^{\\frac{1}{3}} {\\left(i \\, \\sqrt{3} - 1\\right)}^{2} + \\frac{1}{2} \\, {\\left(\\frac{3}{4} i \\, \\sqrt{58463} - \\frac{27085}{4}\\right)}^{\\frac{1}{3}} {\\left(i \\, \\sqrt{3} - 1\\right)} \\phantom{\\verb!x!}\\verb|=| -37.84 - 0.0002441i</script></html>"
      ],
      "text/latex": [
       "\\begin{math}\n",
       "\\newcommand{\\Bold}[1]{\\mathbf{#1}}\\verb|z1|\\phantom{\\verb!x!}\\verb|=| \\frac{1}{4} \\, {\\left(-\\frac{3}{4} i \\, \\sqrt{58463} - \\frac{27085}{4}\\right)}^{\\frac{1}{3}} {\\left(i \\, \\sqrt{3} - 1\\right)}^{2} + \\frac{1}{2} \\, {\\left(\\frac{3}{4} i \\, \\sqrt{58463} - \\frac{27085}{4}\\right)}^{\\frac{1}{3}} {\\left(i \\, \\sqrt{3} - 1\\right)} \\phantom{\\verb!x!}\\verb|=| -37.84 - 0.0002441i\n",
       "\\end{math}"
      ],
      "text/plain": [
       "'z1 = ' 1/4*(-3/4*I*sqrt(58463) - 27085/4)^(1/3)*(I*sqrt(3) - 1)^2 + 1/2*(3/4*I*sqrt(58463) - 27085/4)^(1/3)*(I*sqrt(3) - 1) ' = ' -37.84 - 0.0002441*I"
      ]
     },
     "metadata": {},
     "output_type": "display_data"
    },
    {
     "data": {
      "text/html": [
       "<html><script type=\"math/tex; mode=display\">\\newcommand{\\Bold}[1]{\\mathbf{#1}}\\verb|z2|\\phantom{\\verb!x!}\\verb|=| \\frac{1}{4} \\, {\\left(\\frac{3}{4} i \\, \\sqrt{58463} - \\frac{27085}{4}\\right)}^{\\frac{1}{3}} {\\left(i \\, \\sqrt{3} - 1\\right)}^{2} + \\frac{1}{2} \\, {\\left(-\\frac{3}{4} i \\, \\sqrt{58463} - \\frac{27085}{4}\\right)}^{\\frac{1}{3}} {\\left(i \\, \\sqrt{3} - 1\\right)} \\phantom{\\verb!x!}\\verb|=| 18.63</script></html>"
      ],
      "text/latex": [
       "\\begin{math}\n",
       "\\newcommand{\\Bold}[1]{\\mathbf{#1}}\\verb|z2|\\phantom{\\verb!x!}\\verb|=| \\frac{1}{4} \\, {\\left(\\frac{3}{4} i \\, \\sqrt{58463} - \\frac{27085}{4}\\right)}^{\\frac{1}{3}} {\\left(i \\, \\sqrt{3} - 1\\right)}^{2} + \\frac{1}{2} \\, {\\left(-\\frac{3}{4} i \\, \\sqrt{58463} - \\frac{27085}{4}\\right)}^{\\frac{1}{3}} {\\left(i \\, \\sqrt{3} - 1\\right)} \\phantom{\\verb!x!}\\verb|=| 18.63\n",
       "\\end{math}"
      ],
      "text/plain": [
       "'z2 = ' 1/4*(3/4*I*sqrt(58463) - 27085/4)^(1/3)*(I*sqrt(3) - 1)^2 + 1/2*(-3/4*I*sqrt(58463) - 27085/4)^(1/3)*(I*sqrt(3) - 1) ' = ' 18.63"
      ]
     },
     "metadata": {},
     "output_type": "display_data"
    }
   ],
   "source": [
    "for i, zi in enumerate(z):\n",
    "    show(f\"z{i} = \", zi.simplify(), \" = \", zi.n(digits=4))"
   ]
  },
  {
   "cell_type": "code",
   "execution_count": 18,
   "metadata": {},
   "outputs": [
    {
     "data": {
      "text/html": [
       "<html><script type=\"math/tex; mode=display\">\\newcommand{\\Bold}[1]{\\mathbf{#1}}\\verb|x0|\\phantom{\\verb!x!}\\verb|=| 0.2124</script></html>"
      ],
      "text/latex": [
       "\\begin{math}\n",
       "\\newcommand{\\Bold}[1]{\\mathbf{#1}}\\verb|x0|\\phantom{\\verb!x!}\\verb|=| 0.2124\n",
       "\\end{math}"
      ],
      "text/plain": [
       "'x0 = ' 0.2124"
      ]
     },
     "metadata": {},
     "output_type": "display_data"
    },
    {
     "data": {
      "text/html": [
       "<html><script type=\"math/tex; mode=display\">\\newcommand{\\Bold}[1]{\\mathbf{#1}}\\verb|x1|\\phantom{\\verb!x!}\\verb|=| -56.84 - 0.0002441i</script></html>"
      ],
      "text/latex": [
       "\\begin{math}\n",
       "\\newcommand{\\Bold}[1]{\\mathbf{#1}}\\verb|x1|\\phantom{\\verb!x!}\\verb|=| -56.84 - 0.0002441i\n",
       "\\end{math}"
      ],
      "text/plain": [
       "'x1 = ' -56.84 - 0.0002441*I"
      ]
     },
     "metadata": {},
     "output_type": "display_data"
    },
    {
     "data": {
      "text/html": [
       "<html><script type=\"math/tex; mode=display\">\\newcommand{\\Bold}[1]{\\mathbf{#1}}\\verb|x2|\\phantom{\\verb!x!}\\verb|=| -0.3727</script></html>"
      ],
      "text/latex": [
       "\\begin{math}\n",
       "\\newcommand{\\Bold}[1]{\\mathbf{#1}}\\verb|x2|\\phantom{\\verb!x!}\\verb|=| -0.3727\n",
       "\\end{math}"
      ],
      "text/plain": [
       "'x2 = ' -0.3727"
      ]
     },
     "metadata": {},
     "output_type": "display_data"
    }
   ],
   "source": [
    "def from_z_to_x(_z, _a):\n",
    "    return _z - _a/3\n",
    "\n",
    "\n",
    "for i, zi in enumerate(z):\n",
    "    xi = from_z_to_x(_z=zi, _a=b/a)\n",
    "    show(f\"x{i} = \", xi.n(digits=4))"
   ]
  },
  {
   "cell_type": "code",
   "execution_count": null,
   "metadata": {},
   "outputs": [],
   "source": []
  }
 ],
 "metadata": {
  "kernelspec": {
   "display_name": "SageMath 9.2",
   "language": "sage",
   "name": "sagemath"
  },
  "language_info": {
   "codemirror_mode": {
    "name": "ipython",
    "version": 3
   },
   "file_extension": ".py",
   "mimetype": "text/x-python",
   "name": "python",
   "nbconvert_exporter": "python",
   "pygments_lexer": "ipython3",
   "version": "3.7.7"
  }
 },
 "nbformat": 4,
 "nbformat_minor": 4
}
