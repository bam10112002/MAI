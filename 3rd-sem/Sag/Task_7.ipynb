{
 "cells": [
  {
   "cell_type": "code",
   "execution_count": 9,
   "metadata": {
    "collapsed": false
   },
   "outputs": [
    {
     "data": {
      "text/html": [
       "<html>\\[\\newcommand{\\Bold}[1]{\\mathbf{#1}}\\verb|A_mat|\\phantom{\\verb!x!}\\verb|=| \\left(\\begin{array}{rrr}\n",
       "4 & -1 & -2 \\\\\n",
       "2 & 1 & -2 \\\\\n",
       "1 & -1 & 1\n",
       "\\end{array}\\right)\\]</html>"
      ],
      "text/latex": [
       "$$\\newcommand{\\Bold}[1]{\\mathbf{#1}}\\verb|A_mat|\\phantom{\\verb!x!}\\verb|=| \\left(\\begin{array}{rrr}\n",
       "4 & -1 & -2 \\\\\n",
       "2 & 1 & -2 \\\\\n",
       "1 & -1 & 1\n",
       "\\end{array}\\right)$$"
      ],
      "text/plain": [
       "'A_mat = ' [ 4 -1 -2]\n",
       "[ 2  1 -2]\n",
       "[ 1 -1  1]"
      ]
     },
     "execution_count": 9,
     "metadata": {
     },
     "output_type": "execute_result"
    },
    {
     "data": {
      "text/html": [
       "<html>\\[\\newcommand{\\Bold}[1]{\\mathbf{#1}}\\verb|E_mat|\\phantom{\\verb!x!}\\verb|=| \\left(\\begin{array}{rrr}\n",
       "1 & 3 & 0 \\\\\n",
       "2 & 3 & 0 \\\\\n",
       "0 & 2 & -3\n",
       "\\end{array}\\right)\\]</html>"
      ],
      "text/latex": [
       "$$\\newcommand{\\Bold}[1]{\\mathbf{#1}}\\verb|E_mat|\\phantom{\\verb!x!}\\verb|=| \\left(\\begin{array}{rrr}\n",
       "1 & 3 & 0 \\\\\n",
       "2 & 3 & 0 \\\\\n",
       "0 & 2 & -3\n",
       "\\end{array}\\right)$$"
      ],
      "text/plain": [
       "'E_mat = ' [ 1  3  0]\n",
       "[ 2  3  0]\n",
       "[ 0  2 -3]"
      ]
     },
     "execution_count": 9,
     "metadata": {
     },
     "output_type": "execute_result"
    }
   ],
   "source": [
    "import numpy\n",
    "A = matrix(QQ, [[4,  -1,  -2],\n",
    "                [2,   1,  -2],\n",
    "                [1,  -1,   1]])\n",
    "\n",
    "\n",
    "\n",
    "E_mat = matrix(QQ, [[1,   3,   0],\n",
    "                    [2,   3,   0],\n",
    "                    [0,   2,  -3]])\n",
    "\n",
    "show(\"A_mat = \",A)\n",
    "show(\"E_mat = \",E_mat)"
   ]
  },
  {
   "cell_type": "code",
   "execution_count": 10,
   "metadata": {
    "collapsed": false
   },
   "outputs": [
    {
     "data": {
      "text/html": [
       "<html>\\[\\newcommand{\\Bold}[1]{\\mathbf{#1}}\\verb|Пункт|\\phantom{\\verb!x!}\\verb|1|\\]</html>"
      ],
      "text/latex": [
       "$$\\newcommand{\\Bold}[1]{\\mathbf{#1}}\\verb|Пункт|\\phantom{\\verb!x!}\\verb|1|$$"
      ],
      "text/plain": [
       "'Пункт 1'"
      ]
     },
     "execution_count": 10,
     "metadata": {
     },
     "output_type": "execute_result"
    },
    {
     "data": {
      "text/html": [
       "<html>\\[\\newcommand{\\Bold}[1]{\\mathbf{#1}}\\verb|Матрица|\\phantom{\\verb!x!}\\verb|A'|\\phantom{\\verb!x!}\\verb|=|\\phantom{\\verb!x!}\\verb|S^-1|\\phantom{\\verb!x!}\\verb|*|\\phantom{\\verb!x!}\\verb|A|\\phantom{\\verb!x!}\\verb|*|\\phantom{\\verb!x!}\\verb|S|\\phantom{\\verb!x!}\\verb|=| \\left(\\begin{array}{rrr}\n",
       "2 & 0 & 0 \\\\\n",
       "0 & \\frac{5}{3} & 2 \\\\\n",
       "\\frac{1}{3} & \\frac{4}{9} & \\frac{7}{3}\n",
       "\\end{array}\\right)\\]</html>"
      ],
      "text/latex": [
       "$$\\newcommand{\\Bold}[1]{\\mathbf{#1}}\\verb|Матрица|\\phantom{\\verb!x!}\\verb|A'|\\phantom{\\verb!x!}\\verb|=|\\phantom{\\verb!x!}\\verb|S^-1|\\phantom{\\verb!x!}\\verb|*|\\phantom{\\verb!x!}\\verb|A|\\phantom{\\verb!x!}\\verb|*|\\phantom{\\verb!x!}\\verb|S|\\phantom{\\verb!x!}\\verb|=| \\left(\\begin{array}{rrr}\n",
       "2 & 0 & 0 \\\\\n",
       "0 & \\frac{5}{3} & 2 \\\\\n",
       "\\frac{1}{3} & \\frac{4}{9} & \\frac{7}{3}\n",
       "\\end{array}\\right)$$"
      ],
      "text/plain": [
       "\"Матрица A' = S^-1 * A * S = \" [  2   0   0]\n",
       "[  0 5/3   2]\n",
       "[1/3 4/9 7/3]"
      ]
     },
     "execution_count": 10,
     "metadata": {
     },
     "output_type": "execute_result"
    }
   ],
   "source": [
    "B = E_mat**(-1)*A*E_mat\n",
    "show(\"Пункт 1\")\n",
    "show(\"Матрица A' = S^-1 * A * S = \", B)"
   ]
  },
  {
   "cell_type": "code",
   "execution_count": 11,
   "metadata": {
    "collapsed": false
   },
   "outputs": [
    {
     "data": {
      "text/html": [
       "<html>\\[\\newcommand{\\Bold}[1]{\\mathbf{#1}}\\verb|P_mat|\\phantom{\\verb!x!}\\verb|=| \\left(\\begin{array}{rrr}\n",
       "-\\mathit{lam} + 4 & -1 & -2 \\\\\n",
       "2 & -\\mathit{lam} + 1 & -2 \\\\\n",
       "1 & -1 & -\\mathit{lam} + 1\n",
       "\\end{array}\\right)\\]</html>"
      ],
      "text/latex": [
       "$$\\newcommand{\\Bold}[1]{\\mathbf{#1}}\\verb|P_mat|\\phantom{\\verb!x!}\\verb|=| \\left(\\begin{array}{rrr}\n",
       "-\\mathit{lam} + 4 & -1 & -2 \\\\\n",
       "2 & -\\mathit{lam} + 1 & -2 \\\\\n",
       "1 & -1 & -\\mathit{lam} + 1\n",
       "\\end{array}\\right)$$"
      ],
      "text/plain": [
       "'P_mat = ' [-lam + 4       -1       -2]\n",
       "[       2 -lam + 1       -2]\n",
       "[       1       -1 -lam + 1]"
      ]
     },
     "execution_count": 11,
     "metadata": {
     },
     "output_type": "execute_result"
    }
   ],
   "source": [
    "var('lam')\n",
    "P = A - lam*identity_matrix(3)\n",
    "show(\"P_mat = \",P)"
   ]
  },
  {
   "cell_type": "code",
   "execution_count": 12,
   "metadata": {
    "collapsed": false
   },
   "outputs": [
    {
     "data": {
      "text/html": [
       "<html>\\[\\newcommand{\\Bold}[1]{\\mathbf{#1}}\\verb|Пункт|\\phantom{\\verb!x!}\\verb|2|\\]</html>"
      ],
      "text/latex": [
       "$$\\newcommand{\\Bold}[1]{\\mathbf{#1}}\\verb|Пункт|\\phantom{\\verb!x!}\\verb|2|$$"
      ],
      "text/plain": [
       "'Пункт 2'"
      ]
     },
     "execution_count": 12,
     "metadata": {
     },
     "output_type": "execute_result"
    },
    {
     "data": {
      "text/html": [
       "<html>\\[\\newcommand{\\Bold}[1]{\\mathbf{#1}}\\verb|характеристический|\\phantom{\\verb!x!}\\verb|многочлен|\\phantom{\\verb!x!}\\verb|=|\\phantom{\\verb!x!}\\verb|-((lam|\\phantom{\\verb!x!}\\verb|-|\\phantom{\\verb!x!}\\verb|1)^2|\\phantom{\\verb!x!}\\verb|-|\\phantom{\\verb!x!}\\verb|2)*(lam|\\phantom{\\verb!x!}\\verb|-|\\phantom{\\verb!x!}\\verb|4)|\\phantom{\\verb!x!}\\verb|-|\\phantom{\\verb!x!}\\verb|4*lam|\\phantom{\\verb!x!}\\verb|+|\\phantom{\\verb!x!}\\verb|10|\\]</html>"
      ],
      "text/latex": [
       "$$\\newcommand{\\Bold}[1]{\\mathbf{#1}}\\verb|характеристический|\\phantom{\\verb!x!}\\verb|многочлен|\\phantom{\\verb!x!}\\verb|=|\\phantom{\\verb!x!}\\verb|-((lam|\\phantom{\\verb!x!}\\verb|-|\\phantom{\\verb!x!}\\verb|1)^2|\\phantom{\\verb!x!}\\verb|-|\\phantom{\\verb!x!}\\verb|2)*(lam|\\phantom{\\verb!x!}\\verb|-|\\phantom{\\verb!x!}\\verb|4)|\\phantom{\\verb!x!}\\verb|-|\\phantom{\\verb!x!}\\verb|4*lam|\\phantom{\\verb!x!}\\verb|+|\\phantom{\\verb!x!}\\verb|10|$$"
      ],
      "text/plain": [
       "'характеристический многочлен = -((lam - 1)^2 - 2)*(lam - 4) - 4*lam + 10'"
      ]
     },
     "execution_count": 12,
     "metadata": {
     },
     "output_type": "execute_result"
    }
   ],
   "source": [
    "show(\"Пункт 2\")\n",
    "show(f'характеристический многочлен = {det(P)}')"
   ]
  },
  {
   "cell_type": "code",
   "execution_count": 16,
   "metadata": {
    "collapsed": false
   },
   "outputs": [
    {
     "data": {
      "text/html": [
       "<html>\\[\\newcommand{\\Bold}[1]{\\mathbf{#1}}\\verb|Пункт|\\phantom{\\verb!x!}\\verb|3|\\]</html>"
      ],
      "text/latex": [
       "$$\\newcommand{\\Bold}[1]{\\mathbf{#1}}\\verb|Пункт|\\phantom{\\verb!x!}\\verb|3|$$"
      ],
      "text/plain": [
       "'Пункт 3'"
      ]
     },
     "execution_count": 16,
     "metadata": {
     },
     "output_type": "execute_result"
    },
    {
     "data": {
      "text/html": [
       "<html>\\[\\newcommand{\\Bold}[1]{\\mathbf{#1}}\\verb|Характеристические|\\phantom{\\verb!x!}\\verb|числа|\\phantom{\\verb!x!}\\verb|преобразования|\\]</html>"
      ],
      "text/latex": [
       "$$\\newcommand{\\Bold}[1]{\\mathbf{#1}}\\verb|Характеристические|\\phantom{\\verb!x!}\\verb|числа|\\phantom{\\verb!x!}\\verb|преобразования|$$"
      ],
      "text/plain": [
       "'Характеристические числа преобразования'"
      ]
     },
     "execution_count": 16,
     "metadata": {
     },
     "output_type": "execute_result"
    },
    {
     "data": {
      "text/html": [
       "<html>\\[\\newcommand{\\Bold}[1]{\\mathbf{#1}}1.0000\\]</html>"
      ],
      "text/latex": [
       "$$\\newcommand{\\Bold}[1]{\\mathbf{#1}}1.0000$$"
      ],
      "text/plain": [
       "1.0000"
      ]
     },
     "execution_count": 16,
     "metadata": {
     },
     "output_type": "execute_result"
    },
    {
     "data": {
      "text/html": [
       "<html>\\[\\newcommand{\\Bold}[1]{\\mathbf{#1}}2.0000\\]</html>"
      ],
      "text/latex": [
       "$$\\newcommand{\\Bold}[1]{\\mathbf{#1}}2.0000$$"
      ],
      "text/plain": [
       "2.0000"
      ]
     },
     "execution_count": 16,
     "metadata": {
     },
     "output_type": "execute_result"
    },
    {
     "data": {
      "text/html": [
       "<html>\\[\\newcommand{\\Bold}[1]{\\mathbf{#1}}3.0000\\]</html>"
      ],
      "text/latex": [
       "$$\\newcommand{\\Bold}[1]{\\mathbf{#1}}3.0000$$"
      ],
      "text/plain": [
       "3.0000"
      ]
     },
     "execution_count": 16,
     "metadata": {
     },
     "output_type": "execute_result"
    }
   ],
   "source": [
    "show(\"Пункт 3\")\n",
    "show('Характеристические числа преобразования')\n",
    "res = solve(det(P), lam)\n",
    "for i in range(0,3):\n",
    "    show(res[i].rhs().n(digits = 5))\n",
    "#     show(\"Lam \",res[i].rhs().n(digits = 5))"
   ]
  },
  {
   "cell_type": "code",
   "execution_count": 14,
   "metadata": {
    "collapsed": false
   },
   "outputs": [
    {
     "data": {
      "text/html": [
       "<html>\\[\\newcommand{\\Bold}[1]{\\mathbf{#1}}\\verb|Пункт|\\phantom{\\verb!x!}\\verb|4|\\]</html>"
      ],
      "text/latex": [
       "$$\\newcommand{\\Bold}[1]{\\mathbf{#1}}\\verb|Пункт|\\phantom{\\verb!x!}\\verb|4|$$"
      ],
      "text/plain": [
       "'Пункт 4'"
      ]
     },
     "execution_count": 14,
     "metadata": {
     },
     "output_type": "execute_result"
    },
    {
     "data": {
      "text/html": [
       "<html>\\[\\newcommand{\\Bold}[1]{\\mathbf{#1}}\\verb|собственные|\\phantom{\\verb!x!}\\verb|значения|\\]</html>"
      ],
      "text/latex": [
       "$$\\newcommand{\\Bold}[1]{\\mathbf{#1}}\\verb|собственные|\\phantom{\\verb!x!}\\verb|значения|$$"
      ],
      "text/plain": [
       "'собственные значения'"
      ]
     },
     "execution_count": 14,
     "metadata": {
     },
     "output_type": "execute_result"
    },
    {
     "data": {
      "text/html": [
       "<html>\\[\\newcommand{\\Bold}[1]{\\mathbf{#1}}\\verb|lam|\\phantom{\\verb!x!}\\verb|=|\\phantom{\\verb!x!}\\verb|1.0000|\\]</html>"
      ],
      "text/latex": [
       "$$\\newcommand{\\Bold}[1]{\\mathbf{#1}}\\verb|lam|\\phantom{\\verb!x!}\\verb|=|\\phantom{\\verb!x!}\\verb|1.0000|$$"
      ],
      "text/plain": [
       "'lam = 1.0000'"
      ]
     },
     "execution_count": 14,
     "metadata": {
     },
     "output_type": "execute_result"
    },
    {
     "data": {
      "text/html": [
       "<html>\\[\\newcommand{\\Bold}[1]{\\mathbf{#1}}\\verb|lam|\\phantom{\\verb!x!}\\verb|=|\\phantom{\\verb!x!}\\verb|2.0000|\\]</html>"
      ],
      "text/latex": [
       "$$\\newcommand{\\Bold}[1]{\\mathbf{#1}}\\verb|lam|\\phantom{\\verb!x!}\\verb|=|\\phantom{\\verb!x!}\\verb|2.0000|$$"
      ],
      "text/plain": [
       "'lam = 2.0000'"
      ]
     },
     "execution_count": 14,
     "metadata": {
     },
     "output_type": "execute_result"
    },
    {
     "data": {
      "text/html": [
       "<html>\\[\\newcommand{\\Bold}[1]{\\mathbf{#1}}\\verb|lam|\\phantom{\\verb!x!}\\verb|=|\\phantom{\\verb!x!}\\verb|3.0000|\\]</html>"
      ],
      "text/latex": [
       "$$\\newcommand{\\Bold}[1]{\\mathbf{#1}}\\verb|lam|\\phantom{\\verb!x!}\\verb|=|\\phantom{\\verb!x!}\\verb|3.0000|$$"
      ],
      "text/plain": [
       "'lam = 3.0000'"
      ]
     },
     "execution_count": 14,
     "metadata": {
     },
     "output_type": "execute_result"
    }
   ],
   "source": [
    "show(\"Пункт 4\")\n",
    "show('собственные значения')\n",
    "for i in range(0,3):\n",
    "    if (not res[i].rhs().n(digits = 5).imag()):\n",
    "        show(f'lam = {res[i].rhs().n(digits = 5)}')"
   ]
  }
 ],
 "metadata": {
  "kernelspec": {
   "display_name": "SageMath 9.4",
   "language": "sagemath",
   "metadata": {
    "cocalc": {
     "description": "Open-source mathematical software system",
     "priority": 10,
     "url": "https://www.sagemath.org/"
    }
   },
   "name": "sage-9.4",
   "resource_dir": "/ext/jupyter/kernels/sage-9.4"
  },
  "language_info": {
   "codemirror_mode": {
    "name": "ipython",
    "version": 3
   },
   "file_extension": ".py",
   "mimetype": "text/x-python",
   "name": "python",
   "nbconvert_exporter": "python",
   "pygments_lexer": "ipython3",
   "version": "3.9.5"
  }
 },
 "nbformat": 4,
 "nbformat_minor": 4
}