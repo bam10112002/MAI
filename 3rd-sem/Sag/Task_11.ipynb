{
 "cells": [
  {
   "cell_type": "code",
   "execution_count": 1,
   "metadata": {
    "collapsed": false
   },
   "outputs": [
    {
     "data": {
      "text/html": [
       "<html>\\[\\newcommand{\\Bold}[1]{\\mathbf{#1}}x^{3} - 5 x^{2} + 7 x - 3\\]</html>"
      ],
      "text/latex": [
       "$$\\newcommand{\\Bold}[1]{\\mathbf{#1}}x^{3} - 5 x^{2} + 7 x - 3$$"
      ],
      "text/plain": [
       "x^3 - 5*x^2 + 7*x - 3"
      ]
     },
     "execution_count": 1,
     "metadata": {
     },
     "output_type": "execute_result"
    }
   ],
   "source": [
    "x = var(\"x\")\n",
    "A = matrix(QQ, [[2, -1, 0]\n",
    "               ,[-1, 2, 0]\n",
    "               ,[1, -1, 1]])\n",
    "\n",
    "myPRing.<x> = PolynomialRing(QQ)\n",
    "Fa = det(A - x*identity_matrix(3)).monic()\n",
    "show(Fa)"
   ]
  },
  {
   "cell_type": "code",
   "execution_count": 2,
   "metadata": {
    "collapsed": false
   },
   "outputs": [
    {
     "data": {
      "text/html": [
       "<html>\\[\\newcommand{\\Bold}[1]{\\mathbf{#1}}\\left[x = 3, x = 1\\right]\\]</html>"
      ],
      "text/latex": [
       "$$\\newcommand{\\Bold}[1]{\\mathbf{#1}}\\left[x = 3, x = 1\\right]$$"
      ],
      "text/plain": [
       "[x == 3, x == 1]"
      ]
     },
     "execution_count": 2,
     "metadata": {
     },
     "output_type": "execute_result"
    }
   ],
   "source": [
    "f(x) = Fa\n",
    "my_sols = solve(f,x)\n",
    "show(my_sols)\n"
   ]
  },
  {
   "cell_type": "code",
   "execution_count": 3,
   "metadata": {
    "collapsed": false
   },
   "outputs": [
    {
     "data": {
      "text/html": [
       "<html>\\[\\newcommand{\\Bold}[1]{\\mathbf{#1}}\\verb|собственные|\\phantom{\\verb!x!}\\verb|числа|\\phantom{\\verb!x!}\\verb|полученные|\\phantom{\\verb!x!}\\verb|встроенным|\\phantom{\\verb!x!}\\verb|методом|\\phantom{\\verb!x!}\\verb|и|\\phantom{\\verb!x!}\\verb|через|\\phantom{\\verb!x!}\\verb|характеристическое|\\phantom{\\verb!x!}\\verb|уравнение|\\phantom{\\verb!x!}\\verb|совпали|\\]</html>"
      ],
      "text/latex": [
       "$$\\newcommand{\\Bold}[1]{\\mathbf{#1}}\\verb|собственные|\\phantom{\\verb!x!}\\verb|числа|\\phantom{\\verb!x!}\\verb|полученные|\\phantom{\\verb!x!}\\verb|встроенным|\\phantom{\\verb!x!}\\verb|методом|\\phantom{\\verb!x!}\\verb|и|\\phantom{\\verb!x!}\\verb|через|\\phantom{\\verb!x!}\\verb|характеристическое|\\phantom{\\verb!x!}\\verb|уравнение|\\phantom{\\verb!x!}\\verb|совпали|$$"
      ],
      "text/plain": [
       "'собственные числа полученные встроенным методом и через характеристическое уравнение совпали'"
      ]
     },
     "execution_count": 3,
     "metadata": {
     },
     "output_type": "execute_result"
    }
   ],
   "source": [
    "sage_sols = A.eigenvalues()\n",
    "if (sage_sols[0] - my_sols[0].rhs() == 0 and sage_sols[1] - my_sols[1].rhs() == 0 and sage_sols[2] - my_sols[1].rhs() == 0):\n",
    "    show(\"собственные числа полученные встроенным методом и через характеристическое уравнение совпали\")"
   ]
  },
  {
   "cell_type": "code",
   "execution_count": 4,
   "metadata": {
    "collapsed": false
   },
   "outputs": [
    {
     "data": {
      "text/html": [
       "<html>\\[\\newcommand{\\Bold}[1]{\\mathbf{#1}}\\left[\\left(3, \\left[\\left(1,\\,-1,\\,1\\right)\\right], 1\\right), \\left(1, \\left[\\left(1,\\,1,\\,0\\right), \\left(0,\\,0,\\,1\\right)\\right], 2\\right)\\right]\\]</html>"
      ],
      "text/latex": [
       "$$\\newcommand{\\Bold}[1]{\\mathbf{#1}}\\left[\\left(3, \\left[\\left(1,\\,-1,\\,1\\right)\\right], 1\\right), \\left(1, \\left[\\left(1,\\,1,\\,0\\right), \\left(0,\\,0,\\,1\\right)\\right], 2\\right)\\right]$$"
      ],
      "text/plain": [
       "[(3,\n",
       "  [\n",
       "  (1, -1, 1)\n",
       "  ],\n",
       "  1),\n",
       " (1,\n",
       "  [\n",
       "  (1, 1, 0),\n",
       "  (0, 0, 1)\n",
       "  ],\n",
       "  2)]"
      ]
     },
     "execution_count": 4,
     "metadata": {
     },
     "output_type": "execute_result"
    }
   ],
   "source": [
    "eigen_right = A.eigenvectors_right()\n",
    "show(eigen_right)"
   ]
  },
  {
   "cell_type": "code",
   "execution_count": 5,
   "metadata": {
    "collapsed": false
   },
   "outputs": [
    {
     "data": {
      "text/html": [
       "<html>\\[\\newcommand{\\Bold}[1]{\\mathbf{#1}}\\verb|A|\\phantom{\\verb!x!}\\verb|-|\\phantom{\\verb!x!}\\verb|L1*E|\\phantom{\\verb!x!}\\verb|=| \\left(\\begin{array}{rrr}\n",
       "-1 & -1 & 0 \\\\\n",
       "-1 & -1 & 0 \\\\\n",
       "1 & -1 & -2\n",
       "\\end{array}\\right)\\]</html>"
      ],
      "text/latex": [
       "$$\\newcommand{\\Bold}[1]{\\mathbf{#1}}\\verb|A|\\phantom{\\verb!x!}\\verb|-|\\phantom{\\verb!x!}\\verb|L1*E|\\phantom{\\verb!x!}\\verb|=| \\left(\\begin{array}{rrr}\n",
       "-1 & -1 & 0 \\\\\n",
       "-1 & -1 & 0 \\\\\n",
       "1 & -1 & -2\n",
       "\\end{array}\\right)$$"
      ],
      "text/plain": [
       "'A - L1*E = ' [-1 -1  0]\n",
       "[-1 -1  0]\n",
       "[ 1 -1 -2]"
      ]
     },
     "execution_count": 5,
     "metadata": {
     },
     "output_type": "execute_result"
    },
    {
     "data": {
      "text/html": [
       "<html>\\[\\newcommand{\\Bold}[1]{\\mathbf{#1}}\\verb|Приведем|\\phantom{\\verb!x!}\\verb|к|\\phantom{\\verb!x!}\\verb|треугольному|\\phantom{\\verb!x!}\\verb|виду|\\]</html>"
      ],
      "text/latex": [
       "$$\\newcommand{\\Bold}[1]{\\mathbf{#1}}\\verb|Приведем|\\phantom{\\verb!x!}\\verb|к|\\phantom{\\verb!x!}\\verb|треугольному|\\phantom{\\verb!x!}\\verb|виду|$$"
      ],
      "text/plain": [
       "'Приведем к треугольному виду'"
      ]
     },
     "execution_count": 5,
     "metadata": {
     },
     "output_type": "execute_result"
    },
    {
     "data": {
      "text/html": [
       "<html>\\[\\newcommand{\\Bold}[1]{\\mathbf{#1}}\\verb|Получили|\\phantom{\\verb!x!}\\verb|зависимость:|\\phantom{\\verb!x!}\\verb|x1|\\phantom{\\verb!x!}\\verb|=|\\phantom{\\verb!x!}\\verb|z1|\\phantom{\\verb!x!}\\verb|=|\\phantom{\\verb!x!}\\verb|-y1,|\\phantom{\\verb!x!}\\verb|пусть|\\phantom{\\verb!x!}\\verb|x1|\\phantom{\\verb!x!}\\verb|=|\\phantom{\\verb!x!}\\verb|1|\\phantom{\\verb!x!}\\verb|=>|\\phantom{\\verb!x!}\\verb|x1|\\phantom{\\verb!x!}\\verb|=|\\phantom{\\verb!x!}\\verb|1,|\\phantom{\\verb!x!}\\verb|y1|\\phantom{\\verb!x!}\\verb|=|\\phantom{\\verb!x!}\\verb|-1,|\\phantom{\\verb!x!}\\verb|z1|\\phantom{\\verb!x!}\\verb|=|\\phantom{\\verb!x!}\\verb|1|\\]</html>"
      ],
      "text/latex": [
       "$$\\newcommand{\\Bold}[1]{\\mathbf{#1}}\\verb|Получили|\\phantom{\\verb!x!}\\verb|зависимость:|\\phantom{\\verb!x!}\\verb|x1|\\phantom{\\verb!x!}\\verb|=|\\phantom{\\verb!x!}\\verb|z1|\\phantom{\\verb!x!}\\verb|=|\\phantom{\\verb!x!}\\verb|-y1,|\\phantom{\\verb!x!}\\verb|пусть|\\phantom{\\verb!x!}\\verb|x1|\\phantom{\\verb!x!}\\verb|=|\\phantom{\\verb!x!}\\verb|1|\\phantom{\\verb!x!}\\verb|=>|\\phantom{\\verb!x!}\\verb|x1|\\phantom{\\verb!x!}\\verb|=|\\phantom{\\verb!x!}\\verb|1,|\\phantom{\\verb!x!}\\verb|y1|\\phantom{\\verb!x!}\\verb|=|\\phantom{\\verb!x!}\\verb|-1,|\\phantom{\\verb!x!}\\verb|z1|\\phantom{\\verb!x!}\\verb|=|\\phantom{\\verb!x!}\\verb|1|$$"
      ],
      "text/plain": [
       "'Получили зависимость: x1 = z1 = -y1, пусть x1 = 1 => x1 = 1, y1 = -1, z1 = 1'"
      ]
     },
     "execution_count": 5,
     "metadata": {
     },
     "output_type": "execute_result"
    },
    {
     "data": {
      "text/html": [
       "<html>\\[\\newcommand{\\Bold}[1]{\\mathbf{#1}}\\verb|A|\\phantom{\\verb!x!}\\verb|-|\\phantom{\\verb!x!}\\verb|L1*E|\\phantom{\\verb!x!}\\verb|=| \\left(\\begin{array}{rrr}\n",
       "1 & -1 & 0 \\\\\n",
       "-1 & 1 & 0 \\\\\n",
       "1 & -1 & 0\n",
       "\\end{array}\\right)\\]</html>"
      ],
      "text/latex": [
       "$$\\newcommand{\\Bold}[1]{\\mathbf{#1}}\\verb|A|\\phantom{\\verb!x!}\\verb|-|\\phantom{\\verb!x!}\\verb|L1*E|\\phantom{\\verb!x!}\\verb|=| \\left(\\begin{array}{rrr}\n",
       "1 & -1 & 0 \\\\\n",
       "-1 & 1 & 0 \\\\\n",
       "1 & -1 & 0\n",
       "\\end{array}\\right)$$"
      ],
      "text/plain": [
       "'A - L1*E = ' [ 1 -1  0]\n",
       "[-1  1  0]\n",
       "[ 1 -1  0]"
      ]
     },
     "execution_count": 5,
     "metadata": {
     },
     "output_type": "execute_result"
    },
    {
     "data": {
      "text/html": [
       "<html>\\[\\newcommand{\\Bold}[1]{\\mathbf{#1}}\\verb|Приведем|\\phantom{\\verb!x!}\\verb|к|\\phantom{\\verb!x!}\\verb|треугольному|\\phantom{\\verb!x!}\\verb|виду|\\]</html>"
      ],
      "text/latex": [
       "$$\\newcommand{\\Bold}[1]{\\mathbf{#1}}\\verb|Приведем|\\phantom{\\verb!x!}\\verb|к|\\phantom{\\verb!x!}\\verb|треугольному|\\phantom{\\verb!x!}\\verb|виду|$$"
      ],
      "text/plain": [
       "'Приведем к треугольному виду'"
      ]
     },
     "execution_count": 5,
     "metadata": {
     },
     "output_type": "execute_result"
    },
    {
     "data": {
      "text/html": [
       "<html>\\[\\newcommand{\\Bold}[1]{\\mathbf{#1}}\\verb|Получили|\\phantom{\\verb!x!}\\verb|зависимость:|\\phantom{\\verb!x!}\\verb|x2|\\phantom{\\verb!x!}\\verb|=|\\phantom{\\verb!x!}\\verb|y2,|\\phantom{\\verb!x!}\\verb|пусть|\\phantom{\\verb!x!}\\verb|x2|\\phantom{\\verb!x!}\\verb|=|\\phantom{\\verb!x!}\\verb|1,|\\phantom{\\verb!x!}\\verb|а|\\phantom{\\verb!x!}\\verb|z2|\\phantom{\\verb!x!}\\verb|=|\\phantom{\\verb!x!}\\verb|0|\\phantom{\\verb!x!}\\verb|=>|\\phantom{\\verb!x!}\\verb|x2|\\phantom{\\verb!x!}\\verb|=|\\phantom{\\verb!x!}\\verb|1,|\\phantom{\\verb!x!}\\verb|y2|\\phantom{\\verb!x!}\\verb|=|\\phantom{\\verb!x!}\\verb|1,|\\phantom{\\verb!x!}\\verb|z1|\\phantom{\\verb!x!}\\verb|=|\\phantom{\\verb!x!}\\verb|0|\\]</html>"
      ],
      "text/latex": [
       "$$\\newcommand{\\Bold}[1]{\\mathbf{#1}}\\verb|Получили|\\phantom{\\verb!x!}\\verb|зависимость:|\\phantom{\\verb!x!}\\verb|x2|\\phantom{\\verb!x!}\\verb|=|\\phantom{\\verb!x!}\\verb|y2,|\\phantom{\\verb!x!}\\verb|пусть|\\phantom{\\verb!x!}\\verb|x2|\\phantom{\\verb!x!}\\verb|=|\\phantom{\\verb!x!}\\verb|1,|\\phantom{\\verb!x!}\\verb|а|\\phantom{\\verb!x!}\\verb|z2|\\phantom{\\verb!x!}\\verb|=|\\phantom{\\verb!x!}\\verb|0|\\phantom{\\verb!x!}\\verb|=>|\\phantom{\\verb!x!}\\verb|x2|\\phantom{\\verb!x!}\\verb|=|\\phantom{\\verb!x!}\\verb|1,|\\phantom{\\verb!x!}\\verb|y2|\\phantom{\\verb!x!}\\verb|=|\\phantom{\\verb!x!}\\verb|1,|\\phantom{\\verb!x!}\\verb|z1|\\phantom{\\verb!x!}\\verb|=|\\phantom{\\verb!x!}\\verb|0|$$"
      ],
      "text/plain": [
       "'Получили зависимость: x2 = y2, пусть x2 = 1, а z2 = 0 => x2 = 1, y2 = 1, z1 = 0'"
      ]
     },
     "execution_count": 5,
     "metadata": {
     },
     "output_type": "execute_result"
    },
    {
     "data": {
      "text/html": [
       "<html>\\[\\newcommand{\\Bold}[1]{\\mathbf{#1}}\\verb|Получили|\\phantom{\\verb!x!}\\verb|зависимость:|\\phantom{\\verb!x!}\\verb|x2|\\phantom{\\verb!x!}\\verb|=|\\phantom{\\verb!x!}\\verb|y2,|\\phantom{\\verb!x!}\\verb|пусть|\\phantom{\\verb!x!}\\verb|x2|\\phantom{\\verb!x!}\\verb|=|\\phantom{\\verb!x!}\\verb|1,|\\phantom{\\verb!x!}\\verb|а|\\phantom{\\verb!x!}\\verb|z2|\\phantom{\\verb!x!}\\verb|=|\\phantom{\\verb!x!}\\verb|0|\\phantom{\\verb!x!}\\verb|=>|\\phantom{\\verb!x!}\\verb|x2|\\phantom{\\verb!x!}\\verb|=|\\phantom{\\verb!x!}\\verb|0,|\\phantom{\\verb!x!}\\verb|y2|\\phantom{\\verb!x!}\\verb|=|\\phantom{\\verb!x!}\\verb|0,|\\phantom{\\verb!x!}\\verb|z1|\\phantom{\\verb!x!}\\verb|=|\\phantom{\\verb!x!}\\verb|1|\\]</html>"
      ],
      "text/latex": [
       "$$\\newcommand{\\Bold}[1]{\\mathbf{#1}}\\verb|Получили|\\phantom{\\verb!x!}\\verb|зависимость:|\\phantom{\\verb!x!}\\verb|x2|\\phantom{\\verb!x!}\\verb|=|\\phantom{\\verb!x!}\\verb|y2,|\\phantom{\\verb!x!}\\verb|пусть|\\phantom{\\verb!x!}\\verb|x2|\\phantom{\\verb!x!}\\verb|=|\\phantom{\\verb!x!}\\verb|1,|\\phantom{\\verb!x!}\\verb|а|\\phantom{\\verb!x!}\\verb|z2|\\phantom{\\verb!x!}\\verb|=|\\phantom{\\verb!x!}\\verb|0|\\phantom{\\verb!x!}\\verb|=>|\\phantom{\\verb!x!}\\verb|x2|\\phantom{\\verb!x!}\\verb|=|\\phantom{\\verb!x!}\\verb|0,|\\phantom{\\verb!x!}\\verb|y2|\\phantom{\\verb!x!}\\verb|=|\\phantom{\\verb!x!}\\verb|0,|\\phantom{\\verb!x!}\\verb|z1|\\phantom{\\verb!x!}\\verb|=|\\phantom{\\verb!x!}\\verb|1|$$"
      ],
      "text/plain": [
       "'Получили зависимость: x2 = y2, пусть x2 = 1, а z2 = 0 => x2 = 0, y2 = 0, z1 = 1'"
      ]
     },
     "execution_count": 5,
     "metadata": {
     },
     "output_type": "execute_result"
    },
    {
     "data": {
      "text/html": [
       "<html>\\[\\newcommand{\\Bold}[1]{\\mathbf{#1}}\\verb|Собственные|\\phantom{\\verb!x!}\\verb|вектора|\\phantom{\\verb!x!}\\verb|полученные|\\phantom{\\verb!x!}\\verb|встроенными|\\phantom{\\verb!x!}\\verb|методами|\\phantom{\\verb!x!}\\verb|sage|\\phantom{\\verb!x!}\\verb|совпали|\\phantom{\\verb!x!}\\verb|с|\\phantom{\\verb!x!}\\verb|расчетными|\\]</html>"
      ],
      "text/latex": [
       "$$\\newcommand{\\Bold}[1]{\\mathbf{#1}}\\verb|Собственные|\\phantom{\\verb!x!}\\verb|вектора|\\phantom{\\verb!x!}\\verb|полученные|\\phantom{\\verb!x!}\\verb|встроенными|\\phantom{\\verb!x!}\\verb|методами|\\phantom{\\verb!x!}\\verb|sage|\\phantom{\\verb!x!}\\verb|совпали|\\phantom{\\verb!x!}\\verb|с|\\phantom{\\verb!x!}\\verb|расчетными|$$"
      ],
      "text/plain": [
       "'Собственные вектора полученные встроенными методами sage совпали с расчетными'"
      ]
     },
     "execution_count": 5,
     "metadata": {
     },
     "output_type": "execute_result"
    }
   ],
   "source": [
    "import copy as cp\n",
    "A = matrix(QQ, [[2, -1, 0]\n",
    "               ,[-1, 2, 0]\n",
    "               ,[1, -1, 1]])\n",
    "\n",
    "b = matrix([[0],[0],[0]])\n",
    "\n",
    "\n",
    "show(\"A - L1*E = \", A - my_sols[0].rhs()*identity_matrix(3))\n",
    "show(\"Приведем к треугольному виду\")\n",
    "A_lam1 =  A - my_sols[0].rhs()*identity_matrix(3)\n",
    "show(\"Получили зависимость: x1 = z1 = -y1, пусть x1 = 1 => x1 = 1, y1 = -1, z1 = 1\")\n",
    "eigen_vectors = [(1,-1,1)]\n",
    "\n",
    "\n",
    "show(\"A - L1*E = \", A - my_sols[1].rhs()*identity_matrix(3))\n",
    "show(\"Приведем к треугольному виду\")\n",
    "A_lam2 =  A - my_sols[1].rhs()*identity_matrix(3)\n",
    "show(\"Получили зависимость: x2 = y2, пусть x2 = 1, а z2 = 0 => x2 = 1, y2 = 1, z1 = 0\")\n",
    "eigen_vectors.append((1,1,0))\n",
    "show(\"Получили зависимость: x2 = y2, пусть x2 = 1, а z2 = 0 => x2 = 0, y2 = 0, z1 = 1\")\n",
    "eigen_vectors.append((0,0,1))\n",
    "\n",
    "\n",
    "if tuple(eigen_right[0][1][0]) == tuple(eigen_vectors[0]) and tuple(eigen_right[1][1][0]) == tuple(eigen_vectors[1]) and tuple(eigen_right[1][1][1]) == tuple(eigen_vectors[2]):\n",
    "    show(\"Собственные вектора полученные встроенными методами sage совпали с расчетными\")\n",
    "else:\n",
    "    show(\"В собственных векторах что-то пошло не так, но я не растраиваюсь\")"
   ]
  },
  {
   "cell_type": "code",
   "execution_count": 6,
   "metadata": {
    "collapsed": false
   },
   "outputs": [
    {
     "data": {
      "text/html": [
       "<html>\\[\\newcommand{\\Bold}[1]{\\mathbf{#1}}\\verb|E_mat|\\phantom{\\verb!x!}\\verb|=| \\left(\\begin{array}{rrr}\n",
       "1 & 1 & 0 \\\\\n",
       "1 & -1 & 1 \\\\\n",
       "0 & 1 & -1\n",
       "\\end{array}\\right)\\]</html>"
      ],
      "text/latex": [
       "$$\\newcommand{\\Bold}[1]{\\mathbf{#1}}\\verb|E_mat|\\phantom{\\verb!x!}\\verb|=| \\left(\\begin{array}{rrr}\n",
       "1 & 1 & 0 \\\\\n",
       "1 & -1 & 1 \\\\\n",
       "0 & 1 & -1\n",
       "\\end{array}\\right)$$"
      ],
      "text/plain": [
       "'E_mat = ' [ 1  1  0]\n",
       "[ 1 -1  1]\n",
       "[ 0  1 -1]"
      ]
     },
     "execution_count": 6,
     "metadata": {
     },
     "output_type": "execute_result"
    }
   ],
   "source": [
    "E_mat = Matrix(QQ, [[1, 1, 0], [1, -1, 1], [0, 1, -1]])\n",
    "show(\"E_mat = \",E_mat)\n",
    "S = E_mat.transpose()"
   ]
  },
  {
   "cell_type": "code",
   "execution_count": 7,
   "metadata": {
    "collapsed": false
   },
   "outputs": [
    {
     "data": {
      "text/html": [
       "<html>\\[\\newcommand{\\Bold}[1]{\\mathbf{#1}}\\verb|Собственный|\\phantom{\\verb!x!}\\verb|вектор|\\phantom{\\verb!x!}\\verb|No_1|\\phantom{\\verb!x!}\\verb|в|\\phantom{\\verb!x!}\\verb|новом|\\phantom{\\verb!x!}\\verb|базисе|\\phantom{\\verb!x!}\\verb|[0|\\phantom{\\verb!x!}\\verb|1|\\phantom{\\verb!x!}\\verb|0]|\\]</html>"
      ],
      "text/latex": [
       "$$\\newcommand{\\Bold}[1]{\\mathbf{#1}}\\verb|Собственный|\\phantom{\\verb!x!}\\verb|вектор|\\phantom{\\verb!x!}\\verb|No_1|\\phantom{\\verb!x!}\\verb|в|\\phantom{\\verb!x!}\\verb|новом|\\phantom{\\verb!x!}\\verb|базисе|\\phantom{\\verb!x!}\\verb|[0|\\phantom{\\verb!x!}\\verb|1|\\phantom{\\verb!x!}\\verb|0]|$$"
      ],
      "text/plain": [
       "'Собственный вектор No_1 в новом базисе [0 1 0]'"
      ]
     },
     "execution_count": 7,
     "metadata": {
     },
     "output_type": "execute_result"
    },
    {
     "data": {
      "text/html": [
       "<html>\\[\\newcommand{\\Bold}[1]{\\mathbf{#1}}\\verb|Собственный|\\phantom{\\verb!x!}\\verb|вектор|\\phantom{\\verb!x!}\\verb|No_2|\\phantom{\\verb!x!}\\verb|в|\\phantom{\\verb!x!}\\verb|новом|\\phantom{\\verb!x!}\\verb|базисе|\\phantom{\\verb!x!}\\verb|[1|\\phantom{\\verb!x!}\\verb|0|\\phantom{\\verb!x!}\\verb|0]|\\]</html>"
      ],
      "text/latex": [
       "$$\\newcommand{\\Bold}[1]{\\mathbf{#1}}\\verb|Собственный|\\phantom{\\verb!x!}\\verb|вектор|\\phantom{\\verb!x!}\\verb|No_2|\\phantom{\\verb!x!}\\verb|в|\\phantom{\\verb!x!}\\verb|новом|\\phantom{\\verb!x!}\\verb|базисе|\\phantom{\\verb!x!}\\verb|[1|\\phantom{\\verb!x!}\\verb|0|\\phantom{\\verb!x!}\\verb|0]|$$"
      ],
      "text/plain": [
       "'Собственный вектор No_2 в новом базисе [1 0 0]'"
      ]
     },
     "execution_count": 7,
     "metadata": {
     },
     "output_type": "execute_result"
    },
    {
     "data": {
      "text/html": [
       "<html>\\[\\newcommand{\\Bold}[1]{\\mathbf{#1}}\\verb|Собственный|\\phantom{\\verb!x!}\\verb|вектор|\\phantom{\\verb!x!}\\verb|No_3|\\phantom{\\verb!x!}\\verb|в|\\phantom{\\verb!x!}\\verb|новом|\\phantom{\\verb!x!}\\verb|базисе|\\phantom{\\verb!x!}\\verb|[|\\phantom{\\verb!x!}\\verb|1|\\phantom{\\verb!x!}\\verb|-1|\\phantom{\\verb!x!}\\verb|-2]|\\]</html>"
      ],
      "text/latex": [
       "$$\\newcommand{\\Bold}[1]{\\mathbf{#1}}\\verb|Собственный|\\phantom{\\verb!x!}\\verb|вектор|\\phantom{\\verb!x!}\\verb|No_3|\\phantom{\\verb!x!}\\verb|в|\\phantom{\\verb!x!}\\verb|новом|\\phantom{\\verb!x!}\\verb|базисе|\\phantom{\\verb!x!}\\verb|[|\\phantom{\\verb!x!}\\verb|1|\\phantom{\\verb!x!}\\verb|-1|\\phantom{\\verb!x!}\\verb|-2]|$$"
      ],
      "text/plain": [
       "'Собственный вектор No_3 в новом базисе [ 1 -1 -2]'"
      ]
     },
     "execution_count": 7,
     "metadata": {
     },
     "output_type": "execute_result"
    }
   ],
   "source": [
    "i = 0\n",
    "for vec in eigen_vectors:\n",
    "    i += 1\n",
    "    show(f\"Собственный вектор No_{i} в новом базисе {(E_mat.inverse() * Matrix([vec]).transpose()).transpose()}\")\n",
    "\n"
   ]
  },
  {
   "cell_type": "code",
   "execution_count": 8,
   "metadata": {
    "collapsed": false
   },
   "outputs": [
    {
     "data": {
      "text/html": [
       "<html>\\[\\newcommand{\\Bold}[1]{\\mathbf{#1}}\\verb|S|\\phantom{\\verb!x!}\\verb|=| \\left(\\begin{array}{rrr}\n",
       "1 & 1 & 0 \\\\\n",
       "-1 & 1 & 0 \\\\\n",
       "1 & 0 & 1\n",
       "\\end{array}\\right)\\]</html>"
      ],
      "text/latex": [
       "$$\\newcommand{\\Bold}[1]{\\mathbf{#1}}\\verb|S|\\phantom{\\verb!x!}\\verb|=| \\left(\\begin{array}{rrr}\n",
       "1 & 1 & 0 \\\\\n",
       "-1 & 1 & 0 \\\\\n",
       "1 & 0 & 1\n",
       "\\end{array}\\right)$$"
      ],
      "text/plain": [
       "'S = ' [ 1  1  0]\n",
       "[-1  1  0]\n",
       "[ 1  0  1]"
      ]
     },
     "execution_count": 8,
     "metadata": {
     },
     "output_type": "execute_result"
    },
    {
     "data": {
      "text/html": [
       "<html>\\[\\newcommand{\\Bold}[1]{\\mathbf{#1}}\\verb|A|\\phantom{\\verb!x!}\\verb|=| \\left(\\begin{array}{rrr}\n",
       "2 & -1 & 0 \\\\\n",
       "-1 & 2 & 0 \\\\\n",
       "1 & -1 & 1\n",
       "\\end{array}\\right)\\]</html>"
      ],
      "text/latex": [
       "$$\\newcommand{\\Bold}[1]{\\mathbf{#1}}\\verb|A|\\phantom{\\verb!x!}\\verb|=| \\left(\\begin{array}{rrr}\n",
       "2 & -1 & 0 \\\\\n",
       "-1 & 2 & 0 \\\\\n",
       "1 & -1 & 1\n",
       "\\end{array}\\right)$$"
      ],
      "text/plain": [
       "'A = ' [ 2 -1  0]\n",
       "[-1  2  0]\n",
       "[ 1 -1  1]"
      ]
     },
     "execution_count": 8,
     "metadata": {
     },
     "output_type": "execute_result"
    },
    {
     "data": {
      "text/html": [
       "<html>\\[\\newcommand{\\Bold}[1]{\\mathbf{#1}}\\verb|J|\\phantom{\\verb!x!}\\verb|=| \\left(\\begin{array}{rrr}\n",
       "3 & 0 & 0 \\\\\n",
       "0 & 1 & 0 \\\\\n",
       "0 & 0 & 1\n",
       "\\end{array}\\right)\\]</html>"
      ],
      "text/latex": [
       "$$\\newcommand{\\Bold}[1]{\\mathbf{#1}}\\verb|J|\\phantom{\\verb!x!}\\verb|=| \\left(\\begin{array}{rrr}\n",
       "3 & 0 & 0 \\\\\n",
       "0 & 1 & 0 \\\\\n",
       "0 & 0 & 1\n",
       "\\end{array}\\right)$$"
      ],
      "text/plain": [
       "'J = ' [3 0 0]\n",
       "[0 1 0]\n",
       "[0 0 1]"
      ]
     },
     "execution_count": 8,
     "metadata": {
     },
     "output_type": "execute_result"
    },
    {
     "data": {
      "text/html": [
       "<html>\\[\\newcommand{\\Bold}[1]{\\mathbf{#1}}\\verb|Искомая|\\phantom{\\verb!x!}\\verb|жорданова|\\phantom{\\verb!x!}\\verb|формула|\\phantom{\\verb!x!}\\verb|совпала|\\phantom{\\verb!x!}\\verb|с|\\phantom{\\verb!x!}\\verb|формой|\\phantom{\\verb!x!}\\verb|полученной|\\phantom{\\verb!x!}\\verb|sage|\\]</html>"
      ],
      "text/latex": [
       "$$\\newcommand{\\Bold}[1]{\\mathbf{#1}}\\verb|Искомая|\\phantom{\\verb!x!}\\verb|жорданова|\\phantom{\\verb!x!}\\verb|формула|\\phantom{\\verb!x!}\\verb|совпала|\\phantom{\\verb!x!}\\verb|с|\\phantom{\\verb!x!}\\verb|формой|\\phantom{\\verb!x!}\\verb|полученной|\\phantom{\\verb!x!}\\verb|sage|$$"
      ],
      "text/plain": [
       "'Искомая жорданова формула совпала с формой полученной sage'"
      ]
     },
     "execution_count": 8,
     "metadata": {
     },
     "output_type": "execute_result"
    },
    {
     "data": {
      "text/html": [
       "<html>\\[\\newcommand{\\Bold}[1]{\\mathbf{#1}}\\left(\\begin{array}{rrr}\n",
       "3 & 0 & 0 \\\\\n",
       "0 & 1 & 0 \\\\\n",
       "0 & 0 & 1\n",
       "\\end{array}\\right) \\verb|==| \\left(\\begin{array}{r|r|r}\n",
       "3 & 0 & 0 \\\\\n",
       "\\hline\n",
       " 0 & 1 & 0 \\\\\n",
       "\\hline\n",
       " 0 & 0 & 1\n",
       "\\end{array}\\right)\\]</html>"
      ],
      "text/latex": [
       "$$\\newcommand{\\Bold}[1]{\\mathbf{#1}}\\left(\\begin{array}{rrr}\n",
       "3 & 0 & 0 \\\\\n",
       "0 & 1 & 0 \\\\\n",
       "0 & 0 & 1\n",
       "\\end{array}\\right) \\verb|==| \\left(\\begin{array}{r|r|r}\n",
       "3 & 0 & 0 \\\\\n",
       "\\hline\n",
       " 0 & 1 & 0 \\\\\n",
       "\\hline\n",
       " 0 & 0 & 1\n",
       "\\end{array}\\right)$$"
      ],
      "text/plain": [
       "[3 0 0]\n",
       "[0 1 0]\n",
       "[0 0 1] '==' [3|0|0]\n",
       "[-+-+-]\n",
       "[0|1|0]\n",
       "[-+-+-]\n",
       "[0|0|1]"
      ]
     },
     "execution_count": 8,
     "metadata": {
     },
     "output_type": "execute_result"
    }
   ],
   "source": [
    "S = Matrix([eigen_vectors[0],eigen_vectors[1],eigen_vectors[2]])\n",
    "S = S.transpose()\n",
    "\n",
    "\n",
    "show(\"S = \",S)\n",
    "show(\"A = \",A)\n",
    "show(\"J = \", S**-1*A*S)\n",
    "J =  S**-1*A*S\n",
    "if (J == A.jordan_form()):\n",
    "    show(\"Искомая жорданова формула совпала с формой полученной sage\")\n",
    "    show(J,\"==\",A.jordan_form())"
   ]
  },
  {
   "cell_type": "code",
   "execution_count": 15,
   "metadata": {
    "collapsed": false
   },
   "outputs": [
    {
     "data": {
      "text/html": [
       "<html>\\[\\newcommand{\\Bold}[1]{\\mathbf{#1}}\\verb|Получили|\\phantom{\\verb!x!}\\verb|матрицу|\\phantom{\\verb!x!}\\verb|перехода|\\phantom{\\verb!x!}\\verb|к|\\phantom{\\verb!x!}\\verb|жардановой|\\phantom{\\verb!x!}\\verb|форме:| \\left(\\begin{array}{rrr}\n",
       "\\frac{2}{3} & -1 & 0 \\\\\n",
       "-\\frac{1}{3} & 2 & 0 \\\\\n",
       "\\frac{1}{3} & -1 & 1\n",
       "\\end{array}\\right)\\]</html>"
      ],
      "text/latex": [
       "$$\\newcommand{\\Bold}[1]{\\mathbf{#1}}\\verb|Получили|\\phantom{\\verb!x!}\\verb|матрицу|\\phantom{\\verb!x!}\\verb|перехода|\\phantom{\\verb!x!}\\verb|к|\\phantom{\\verb!x!}\\verb|жардановой|\\phantom{\\verb!x!}\\verb|форме:| \\left(\\begin{array}{rrr}\n",
       "\\frac{2}{3} & -1 & 0 \\\\\n",
       "-\\frac{1}{3} & 2 & 0 \\\\\n",
       "\\frac{1}{3} & -1 & 1\n",
       "\\end{array}\\right)$$"
      ],
      "text/plain": [
       "'Получили матрицу перехода к жардановой форме:' [ 2/3   -1    0]\n",
       "[-1/3    2    0]\n",
       "[ 1/3   -1    1]"
      ]
     },
     "execution_count": 15,
     "metadata": {
     },
     "output_type": "execute_result"
    },
    {
     "data": {
      "text/html": [
       "<html>\\[\\newcommand{\\Bold}[1]{\\mathbf{#1}}\\verb|Жорданова|\\phantom{\\verb!x!}\\verb|форма|\\phantom{\\verb!x!}\\verb|совпала|\\phantom{\\verb!x!}\\verb|при|\\phantom{\\verb!x!}\\verb|получение|\\phantom{\\verb!x!}\\verb|при|\\phantom{\\verb!x!}\\verb|помощи|\\phantom{\\verb!x!}\\verb|матрицы|\\phantom{\\verb!x!}\\verb|перехода|\\phantom{\\verb!x!}\\verb|и|\\phantom{\\verb!x!}\\verb|стандартными|\\phantom{\\verb!x!}\\verb|методами:| \\left(\\begin{array}{rrr}\n",
       "3 & 0 & 0 \\\\\n",
       "0 & 1 & 0 \\\\\n",
       "0 & 0 & 1\n",
       "\\end{array}\\right) \\phantom{\\verb!x!}\\verb|==| \\left(\\begin{array}{rrr}\n",
       "3 & 0 & 0 \\\\\n",
       "0 & 1 & 0 \\\\\n",
       "0 & 0 & 1\n",
       "\\end{array}\\right)\\]</html>"
      ],
      "text/latex": [
       "$$\\newcommand{\\Bold}[1]{\\mathbf{#1}}\\verb|Жорданова|\\phantom{\\verb!x!}\\verb|форма|\\phantom{\\verb!x!}\\verb|совпала|\\phantom{\\verb!x!}\\verb|при|\\phantom{\\verb!x!}\\verb|получение|\\phantom{\\verb!x!}\\verb|при|\\phantom{\\verb!x!}\\verb|помощи|\\phantom{\\verb!x!}\\verb|матрицы|\\phantom{\\verb!x!}\\verb|перехода|\\phantom{\\verb!x!}\\verb|и|\\phantom{\\verb!x!}\\verb|стандартными|\\phantom{\\verb!x!}\\verb|методами:| \\left(\\begin{array}{rrr}\n",
       "3 & 0 & 0 \\\\\n",
       "0 & 1 & 0 \\\\\n",
       "0 & 0 & 1\n",
       "\\end{array}\\right) \\phantom{\\verb!x!}\\verb|==| \\left(\\begin{array}{rrr}\n",
       "3 & 0 & 0 \\\\\n",
       "0 & 1 & 0 \\\\\n",
       "0 & 0 & 1\n",
       "\\end{array}\\right)$$"
      ],
      "text/plain": [
       "'Жорданова форма совпала при получение при помощи матрицы перехода и стандартными методами: ' [3 0 0]\n",
       "[0 1 0]\n",
       "[0 0 1] ' == ' [3 0 0]\n",
       "[0 1 0]\n",
       "[0 0 1]"
      ]
     },
     "execution_count": 15,
     "metadata": {
     },
     "output_type": "execute_result"
    }
   ],
   "source": [
    "S = (J * A.inverse()).inverse()\n",
    "show(\"Получили матрицу перехода к жардановой форме:\", S)\n",
    "if (S**-1*A == J):\n",
    "    show(\"Жорданова форма совпала при получение при помощи матрицы перехода и стандартными методами: \", S**-1*A,\" == \",J)\n"
   ]
  },
  {
   "cell_type": "code",
   "execution_count": 43,
   "metadata": {
    "collapsed": false
   },
   "outputs": [
    {
     "data": {
      "text/html": [
       "<html>\\[\\newcommand{\\Bold}[1]{\\mathbf{#1}}\\verb|Характеристическое|\\phantom{\\verb!x!}\\verb|уравнение|\\phantom{\\verb!x!}\\verb|для|\\phantom{\\verb!x!}\\verb|матрицы|\\phantom{\\verb!x!}\\verb|A|\\phantom{\\verb!x!}\\verb|=| x^{3} - 5 x^{2} + 7 x - 3\\]</html>"
      ],
      "text/latex": [
       "$$\\newcommand{\\Bold}[1]{\\mathbf{#1}}\\verb|Характеристическое|\\phantom{\\verb!x!}\\verb|уравнение|\\phantom{\\verb!x!}\\verb|для|\\phantom{\\verb!x!}\\verb|матрицы|\\phantom{\\verb!x!}\\verb|A|\\phantom{\\verb!x!}\\verb|=| x^{3} - 5 x^{2} + 7 x - 3$$"
      ],
      "text/plain": [
       "'Характеристическое уравнение для матрицы A = ' x^3 - 5*x^2 + 7*x - 3"
      ]
     },
     "execution_count": 43,
     "metadata": {
     },
     "output_type": "execute_result"
    },
    {
     "data": {
      "text/html": [
       "<html>\\[\\newcommand{\\Bold}[1]{\\mathbf{#1}}\\verb|Решения|\\phantom{\\verb!x!}\\verb|полученнык|\\phantom{\\verb!x!}\\verb|методами|\\phantom{\\verb!x!}\\verb|sage|\\phantom{\\verb!x!}\\verb|и|\\phantom{\\verb!x!}\\verb|по|\\phantom{\\verb!x!}\\verb|теореме|\\phantom{\\verb!x!}\\verb|Кэли-Гамильтона|\\phantom{\\verb!xx!}\\verb|для|\\phantom{\\verb!x!}\\verb|A^3|\\phantom{\\verb!x!}\\verb|совпали|\\]</html>"
      ],
      "text/latex": [
       "$$\\newcommand{\\Bold}[1]{\\mathbf{#1}}\\verb|Решения|\\phantom{\\verb!x!}\\verb|полученнык|\\phantom{\\verb!x!}\\verb|методами|\\phantom{\\verb!x!}\\verb|sage|\\phantom{\\verb!x!}\\verb|и|\\phantom{\\verb!x!}\\verb|по|\\phantom{\\verb!x!}\\verb|теореме|\\phantom{\\verb!x!}\\verb|Кэли-Гамильтона|\\phantom{\\verb!xx!}\\verb|для|\\phantom{\\verb!x!}\\verb|A^3|\\phantom{\\verb!x!}\\verb|совпали|$$"
      ],
      "text/plain": [
       "'Решения полученнык методами sage и по теореме Кэли-Гамильтона  для A^3 совпали'"
      ]
     },
     "execution_count": 43,
     "metadata": {
     },
     "output_type": "execute_result"
    },
    {
     "data": {
      "text/html": [
       "<html>\\[\\newcommand{\\Bold}[1]{\\mathbf{#1}}\\verb|A^3|\\phantom{\\verb!x!}\\verb|=| \\left(\\begin{array}{rrr}\n",
       "14 & -13 & 0 \\\\\n",
       "-13 & 14 & 0 \\\\\n",
       "13 & -13 & 1\n",
       "\\end{array}\\right) \\verb|==| \\left(\\begin{array}{rrr}\n",
       "14 & -13 & 0 \\\\\n",
       "-13 & 14 & 0 \\\\\n",
       "13 & -13 & 1\n",
       "\\end{array}\\right)\\]</html>"
      ],
      "text/latex": [
       "$$\\newcommand{\\Bold}[1]{\\mathbf{#1}}\\verb|A^3|\\phantom{\\verb!x!}\\verb|=| \\left(\\begin{array}{rrr}\n",
       "14 & -13 & 0 \\\\\n",
       "-13 & 14 & 0 \\\\\n",
       "13 & -13 & 1\n",
       "\\end{array}\\right) \\verb|==| \\left(\\begin{array}{rrr}\n",
       "14 & -13 & 0 \\\\\n",
       "-13 & 14 & 0 \\\\\n",
       "13 & -13 & 1\n",
       "\\end{array}\\right)$$"
      ],
      "text/plain": [
       "'A^3 = ' [ 14 -13   0]\n",
       "[-13  14   0]\n",
       "[ 13 -13   1] '==' [ 14 -13   0]\n",
       "[-13  14   0]\n",
       "[ 13 -13   1]"
      ]
     },
     "execution_count": 43,
     "metadata": {
     },
     "output_type": "execute_result"
    },
    {
     "data": {
      "text/html": [
       "<html>\\[\\newcommand{\\Bold}[1]{\\mathbf{#1}}\\verb|Решения|\\phantom{\\verb!x!}\\verb|полученнык|\\phantom{\\verb!x!}\\verb|методами|\\phantom{\\verb!x!}\\verb|sage|\\phantom{\\verb!x!}\\verb|и|\\phantom{\\verb!x!}\\verb|по|\\phantom{\\verb!x!}\\verb|теореме|\\phantom{\\verb!x!}\\verb|Кэли-Гамильтона|\\phantom{\\verb!xx!}\\verb|для|\\phantom{\\verb!x!}\\verb|A^-1|\\phantom{\\verb!x!}\\verb|совпали|\\]</html>"
      ],
      "text/latex": [
       "$$\\newcommand{\\Bold}[1]{\\mathbf{#1}}\\verb|Решения|\\phantom{\\verb!x!}\\verb|полученнык|\\phantom{\\verb!x!}\\verb|методами|\\phantom{\\verb!x!}\\verb|sage|\\phantom{\\verb!x!}\\verb|и|\\phantom{\\verb!x!}\\verb|по|\\phantom{\\verb!x!}\\verb|теореме|\\phantom{\\verb!x!}\\verb|Кэли-Гамильтона|\\phantom{\\verb!xx!}\\verb|для|\\phantom{\\verb!x!}\\verb|A^-1|\\phantom{\\verb!x!}\\verb|совпали|$$"
      ],
      "text/plain": [
       "'Решения полученнык методами sage и по теореме Кэли-Гамильтона  для A^-1 совпали'"
      ]
     },
     "execution_count": 43,
     "metadata": {
     },
     "output_type": "execute_result"
    },
    {
     "data": {
      "text/html": [
       "<html>\\[\\newcommand{\\Bold}[1]{\\mathbf{#1}}\\verb|A^-1|\\phantom{\\verb!x!}\\verb|=| \\left(\\begin{array}{rrr}\n",
       "\\frac{2}{3} & \\frac{1}{3} & 0 \\\\\n",
       "\\frac{1}{3} & \\frac{2}{3} & 0 \\\\\n",
       "-\\frac{1}{3} & \\frac{1}{3} & 1\n",
       "\\end{array}\\right) \\verb|==| \\left(\\begin{array}{rrr}\n",
       "\\frac{2}{3} & \\frac{1}{3} & 0 \\\\\n",
       "\\frac{1}{3} & \\frac{2}{3} & 0 \\\\\n",
       "-\\frac{1}{3} & \\frac{1}{3} & 1\n",
       "\\end{array}\\right)\\]</html>"
      ],
      "text/latex": [
       "$$\\newcommand{\\Bold}[1]{\\mathbf{#1}}\\verb|A^-1|\\phantom{\\verb!x!}\\verb|=| \\left(\\begin{array}{rrr}\n",
       "\\frac{2}{3} & \\frac{1}{3} & 0 \\\\\n",
       "\\frac{1}{3} & \\frac{2}{3} & 0 \\\\\n",
       "-\\frac{1}{3} & \\frac{1}{3} & 1\n",
       "\\end{array}\\right) \\verb|==| \\left(\\begin{array}{rrr}\n",
       "\\frac{2}{3} & \\frac{1}{3} & 0 \\\\\n",
       "\\frac{1}{3} & \\frac{2}{3} & 0 \\\\\n",
       "-\\frac{1}{3} & \\frac{1}{3} & 1\n",
       "\\end{array}\\right)$$"
      ],
      "text/plain": [
       "'A^-1 = ' [ 2/3  1/3    0]\n",
       "[ 1/3  2/3    0]\n",
       "[-1/3  1/3    1] '==' [ 2/3  1/3    0]\n",
       "[ 1/3  2/3    0]\n",
       "[-1/3  1/3    1]"
      ]
     },
     "execution_count": 43,
     "metadata": {
     },
     "output_type": "execute_result"
    }
   ],
   "source": [
    "show(\"Характеристическое уравнение для матрицы A = \",Fa)\n",
    "caef = Fa.coefficients()\n",
    "for i in range(4):\n",
    "    caef[i] = caef[i] * -1\n",
    "    \n",
    "A_1 = (caef[3]*A**2 + caef[2]*A + caef[1]*identity_matrix(3))/-caef[0]\n",
    "A_3 = caef[2]*A*A + caef[1]*A + caef[0]\n",
    "\n",
    "if (A_3 == A**3):\n",
    "    show(\"Решения полученнык методами sage и по теореме Кэли-Гамильтона  для A^3 совпали\")\n",
    "    show(\"A^3 = \", caef[2]*A*A + caef[1]*A + caef[0], \"==\", A**3)\n",
    "if (A**-1 == A_1 ):\n",
    "    show(\"Решения полученнык методами sage и по теореме Кэли-Гамильтона  для A^-1 совпали\")\n",
    "    show(\"A^-1 = \", (caef[3]*A**2 + caef[2]*A + caef[1]*identity_matrix(3))/-caef[0], \"==\", A**-1)"
   ]
  },
  {
   "cell_type": "code",
   "execution_count": 0,
   "metadata": {
    "collapsed": false
   },
   "outputs": [
   ],
   "source": [
   ]
  }
 ],
 "metadata": {
  "kernelspec": {
   "display_name": "SageMath 9.4",
   "language": "sagemath",
   "metadata": {
    "cocalc": {
     "description": "Open-source mathematical software system",
     "priority": 10,
     "url": "https://www.sagemath.org/"
    }
   },
   "name": "sage-9.4",
   "resource_dir": "/ext/jupyter/kernels/sage-9.4"
  },
  "language_info": {
   "codemirror_mode": {
    "name": "ipython",
    "version": 3
   },
   "file_extension": ".py",
   "mimetype": "text/x-python",
   "name": "python",
   "nbconvert_exporter": "python",
   "pygments_lexer": "ipython3",
   "version": "3.9.5"
  }
 },
 "nbformat": 4,
 "nbformat_minor": 4
}