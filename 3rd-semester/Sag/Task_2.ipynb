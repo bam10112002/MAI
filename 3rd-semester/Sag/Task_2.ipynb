{
 "cells": [
  {
   "cell_type": "code",
   "execution_count": 26,
   "metadata": {},
   "outputs": [],
   "source": [
    "import copy as cp"
   ]
  },
  {
   "cell_type": "code",
   "execution_count": 27,
   "metadata": {},
   "outputs": [
    {
     "data": {
      "text/html": [
       "<html><script type=\"math/tex; mode=display\">\\newcommand{\\Bold}[1]{\\mathbf{#1}}\\verb|A|\\phantom{\\verb!x!}\\verb|=| \\left(\\begin{array}{rrr}\n",
       "1 & 4 & 5 \\\\\n",
       "5 & 6 & 7 \\\\\n",
       "2 & 6 & 8\n",
       "\\end{array}\\right) \\phantom{\\verb!xxx!}\\verb|B|\\phantom{\\verb!x!}\\verb|=| \\left(\\begin{array}{r}\n",
       "21 \\\\\n",
       "45 \\\\\n",
       "67\n",
       "\\end{array}\\right)</script></html>"
      ],
      "text/latex": [
       "\\begin{math}\n",
       "\\newcommand{\\Bold}[1]{\\mathbf{#1}}\\verb|A|\\phantom{\\verb!x!}\\verb|=| \\left(\\begin{array}{rrr}\n",
       "1 & 4 & 5 \\\\\n",
       "5 & 6 & 7 \\\\\n",
       "2 & 6 & 8\n",
       "\\end{array}\\right) \\phantom{\\verb!xxx!}\\verb|B|\\phantom{\\verb!x!}\\verb|=| \\left(\\begin{array}{r}\n",
       "21 \\\\\n",
       "45 \\\\\n",
       "67\n",
       "\\end{array}\\right)\n",
       "\\end{math}"
      ],
      "text/plain": [
       "'A = ' [1 4 5]\n",
       "[5 6 7]\n",
       "[2 6 8] '   B = ' [21]\n",
       "[45]\n",
       "[67]"
      ]
     },
     "metadata": {},
     "output_type": "display_data"
    }
   ],
   "source": [
    "A = matrix([[1,4,5],[5,6,7],[2,6,8]])\n",
    "b = matrix([[21],[45],[67]])\n",
    "show(\"A = \",A,\"   B = \", b)"
   ]
  },
  {
   "cell_type": "code",
   "execution_count": 28,
   "metadata": {},
   "outputs": [
    {
     "data": {
      "text/html": [
       "<html><script type=\"math/tex; mode=display\">\\newcommand{\\Bold}[1]{\\mathbf{#1}}\\verb|Решение|\\phantom{\\verb!x!}\\verb|методом|\\phantom{\\verb!x!}\\verb|Крамера|</script></html>"
      ],
      "text/latex": [
       "\\begin{math}\n",
       "\\newcommand{\\Bold}[1]{\\mathbf{#1}}\\verb|Решение|\\phantom{\\verb!x!}\\verb|методом|\\phantom{\\verb!x!}\\verb|Крамера|\n",
       "\\end{math}"
      ],
      "text/plain": [
       "'Решение методом Крамера'"
      ]
     },
     "metadata": {},
     "output_type": "display_data"
    },
    {
     "data": {
      "text/html": [
       "<html><script type=\"math/tex; mode=display\">\\newcommand{\\Bold}[1]{\\mathbf{#1}}\\verb|X| 0 \\phantom{\\verb!x!}\\verb|=| \\frac{49}{4}</script></html>"
      ],
      "text/latex": [
       "\\begin{math}\n",
       "\\newcommand{\\Bold}[1]{\\mathbf{#1}}\\verb|X| 0 \\phantom{\\verb!x!}\\verb|=| \\frac{49}{4}\n",
       "\\end{math}"
      ],
      "text/plain": [
       "'X' 0 ' = ' 49/4"
      ]
     },
     "metadata": {},
     "output_type": "display_data"
    },
    {
     "data": {
      "text/html": [
       "<html><script type=\"math/tex; mode=display\">\\newcommand{\\Bold}[1]{\\mathbf{#1}}\\verb|X| 1 \\phantom{\\verb!x!}\\verb|=| -\\frac{285}{4}</script></html>"
      ],
      "text/latex": [
       "\\begin{math}\n",
       "\\newcommand{\\Bold}[1]{\\mathbf{#1}}\\verb|X| 1 \\phantom{\\verb!x!}\\verb|=| -\\frac{285}{4}\n",
       "\\end{math}"
      ],
      "text/plain": [
       "'X' 1 ' = ' -285/4"
      ]
     },
     "metadata": {},
     "output_type": "display_data"
    },
    {
     "data": {
      "text/html": [
       "<html><script type=\"math/tex; mode=display\">\\newcommand{\\Bold}[1]{\\mathbf{#1}}\\verb|X| 2 \\phantom{\\verb!x!}\\verb|=| \\frac{235}{4}</script></html>"
      ],
      "text/latex": [
       "\\begin{math}\n",
       "\\newcommand{\\Bold}[1]{\\mathbf{#1}}\\verb|X| 2 \\phantom{\\verb!x!}\\verb|=| \\frac{235}{4}\n",
       "\\end{math}"
      ],
      "text/plain": [
       "'X' 2 ' = ' 235/4"
      ]
     },
     "metadata": {},
     "output_type": "display_data"
    }
   ],
   "source": [
    "show(\"Решение методом Крамера\")\n",
    "i = 0\n",
    "if A.det():\n",
    "    for obj in A:\n",
    "        G = cp.copy(A)\n",
    "        G[:, i] = b\n",
    "        x = G.det()/A.det()\n",
    "        show(\"X\",i,\" = \", x)\n",
    "        i = i + 1"
   ]
  },
  {
   "cell_type": "code",
   "execution_count": null,
   "metadata": {},
   "outputs": [],
   "source": []
  },
  {
   "cell_type": "code",
   "execution_count": 29,
   "metadata": {},
   "outputs": [
    {
     "data": {
      "text/html": [
       "<html><script type=\"math/tex; mode=display\">\\newcommand{\\Bold}[1]{\\mathbf{#1}}\\verb|Решеие|\\phantom{\\verb!x!}\\verb|методом|\\phantom{\\verb!x!}\\verb|Гауса|</script></html>"
      ],
      "text/latex": [
       "\\begin{math}\n",
       "\\newcommand{\\Bold}[1]{\\mathbf{#1}}\\verb|Решеие|\\phantom{\\verb!x!}\\verb|методом|\\phantom{\\verb!x!}\\verb|Гауса|\n",
       "\\end{math}"
      ],
      "text/plain": [
       "'Решеие методом Гауса'"
      ]
     },
     "metadata": {},
     "output_type": "display_data"
    }
   ],
   "source": [
    "show(\"Решеие методом Гауса\")"
   ]
  },
  {
   "cell_type": "code",
   "execution_count": 30,
   "metadata": {},
   "outputs": [
    {
     "data": {
      "text/html": [
       "<html><script type=\"math/tex; mode=display\">\\newcommand{\\Bold}[1]{\\mathbf{#1}}\\left(\\begin{array}{rrrr}\n",
       "1 & 0 & 1 & 71 \\\\\n",
       "0 & 2 & 2 & -25 \\\\\n",
       "0 & 0 & 4 & 235\n",
       "\\end{array}\\right)</script></html>"
      ],
      "text/latex": [
       "\\begin{math}\n",
       "\\newcommand{\\Bold}[1]{\\mathbf{#1}}\\left(\\begin{array}{rrrr}\n",
       "1 & 0 & 1 & 71 \\\\\n",
       "0 & 2 & 2 & -25 \\\\\n",
       "0 & 0 & 4 & 235\n",
       "\\end{array}\\right)\n",
       "\\end{math}"
      ],
      "text/plain": [
       "[  1   0   1  71]\n",
       "[  0   2   2 -25]\n",
       "[  0   0   4 235]"
      ]
     },
     "metadata": {},
     "output_type": "display_data"
    }
   ],
   "source": [
    "AEx = block_matrix([A, b], nrows=1)\n",
    "if A.rank() == AEx.rank():\n",
    "    AEx = AEx.echelon_form()\n",
    "    show(AEx)\n"
   ]
  },
  {
   "cell_type": "code",
   "execution_count": 31,
   "metadata": {},
   "outputs": [
    {
     "data": {
      "text/html": [
       "<html><script type=\"math/tex; mode=display\">\\newcommand{\\Bold}[1]{\\mathbf{#1}}\\verb|x1|\\phantom{\\verb!x!}\\verb|=| \\frac{235}{4}</script></html>"
      ],
      "text/latex": [
       "\\begin{math}\n",
       "\\newcommand{\\Bold}[1]{\\mathbf{#1}}\\verb|x1|\\phantom{\\verb!x!}\\verb|=| \\frac{235}{4}\n",
       "\\end{math}"
      ],
      "text/plain": [
       "'x1 = ' 235/4"
      ]
     },
     "metadata": {},
     "output_type": "display_data"
    },
    {
     "data": {
      "text/html": [
       "<html><script type=\"math/tex; mode=display\">\\newcommand{\\Bold}[1]{\\mathbf{#1}}\\verb|x2|\\phantom{\\verb!x!}\\verb|=| -\\frac{285}{4}</script></html>"
      ],
      "text/latex": [
       "\\begin{math}\n",
       "\\newcommand{\\Bold}[1]{\\mathbf{#1}}\\verb|x2|\\phantom{\\verb!x!}\\verb|=| -\\frac{285}{4}\n",
       "\\end{math}"
      ],
      "text/plain": [
       "'x2 = ' -285/4"
      ]
     },
     "metadata": {},
     "output_type": "display_data"
    },
    {
     "data": {
      "text/html": [
       "<html><script type=\"math/tex; mode=display\">\\newcommand{\\Bold}[1]{\\mathbf{#1}}\\verb|x3|\\phantom{\\verb!x!}\\verb|=| \\frac{49}{4}</script></html>"
      ],
      "text/latex": [
       "\\begin{math}\n",
       "\\newcommand{\\Bold}[1]{\\mathbf{#1}}\\verb|x3|\\phantom{\\verb!x!}\\verb|=| \\frac{49}{4}\n",
       "\\end{math}"
      ],
      "text/plain": [
       "'x3 = ' 49/4"
      ]
     },
     "metadata": {},
     "output_type": "display_data"
    }
   ],
   "source": [
    "lines = len(A[0])\n",
    "colums  = lines + 1 \n",
    "\n",
    "x1 = AEx[lines-1][colums-1]/AEx[lines-1][colums-2]\n",
    "x2 = (AEx[lines-2][colums-1] - x1*AEx[lines-2][colums-2])/AEx[lines-2][colums-3]\n",
    "x3 = (AEx[lines-3][colums-1]- x1*AEx[lines-3][colums-2] - x2*AEx[lines-3][colums-3])/AEx[lines-3][colums-4]\n",
    "\n",
    "show(\"x1 = \",x1)\n",
    "show(\"x2 = \",x2)\n",
    "show(\"x3 = \",x3)"
   ]
  },
  {
   "cell_type": "code",
   "execution_count": 34,
   "metadata": {},
   "outputs": [
    {
     "data": {
      "text/html": [
       "<html><script type=\"math/tex; mode=display\">\\newcommand{\\Bold}[1]{\\mathbf{#1}}\\verb|Проверим|\\phantom{\\verb!x!}\\verb|решения|\\phantom{\\verb!x!}\\verb|сверив|\\phantom{\\verb!x!}\\verb|их|\\phantom{\\verb!x!}\\verb|с|\\phantom{\\verb!x!}\\verb|решением|\\phantom{\\verb!x!}\\verb|полученным|\\phantom{\\verb!x!}\\verb|стандартной|\\phantom{\\verb!x!}\\verb|функцией|\\phantom{\\verb!x!}\\verb|для|\\phantom{\\verb!x!}\\verb|решения|\\phantom{\\verb!x!}\\verb|СЛАУ:|</script></html>"
      ],
      "text/latex": [
       "\\begin{math}\n",
       "\\newcommand{\\Bold}[1]{\\mathbf{#1}}\\verb|Проверим|\\phantom{\\verb!x!}\\verb|решения|\\phantom{\\verb!x!}\\verb|сверив|\\phantom{\\verb!x!}\\verb|их|\\phantom{\\verb!x!}\\verb|с|\\phantom{\\verb!x!}\\verb|решением|\\phantom{\\verb!x!}\\verb|полученным|\\phantom{\\verb!x!}\\verb|стандартной|\\phantom{\\verb!x!}\\verb|функцией|\\phantom{\\verb!x!}\\verb|для|\\phantom{\\verb!x!}\\verb|решения|\\phantom{\\verb!x!}\\verb|СЛАУ:|\n",
       "\\end{math}"
      ],
      "text/plain": [
       "'Проверим решения сверив их с решением полученным стандартной функцией для решения СЛАУ:'"
      ]
     },
     "metadata": {},
     "output_type": "display_data"
    },
    {
     "data": {
      "text/html": [
       "<html><script type=\"math/tex; mode=display\">\\newcommand{\\Bold}[1]{\\mathbf{#1}}\\verb|X|\\phantom{\\verb!x!}\\verb|=| \\left(\\begin{array}{r}\n",
       "\\frac{49}{4} \\\\\n",
       "-\\frac{285}{4} \\\\\n",
       "\\frac{235}{4}\n",
       "\\end{array}\\right)</script></html>"
      ],
      "text/latex": [
       "\\begin{math}\n",
       "\\newcommand{\\Bold}[1]{\\mathbf{#1}}\\verb|X|\\phantom{\\verb!x!}\\verb|=| \\left(\\begin{array}{r}\n",
       "\\frac{49}{4} \\\\\n",
       "-\\frac{285}{4} \\\\\n",
       "\\frac{235}{4}\n",
       "\\end{array}\\right)\n",
       "\\end{math}"
      ],
      "text/plain": [
       "'X = ' [  49/4]\n",
       "[-285/4]\n",
       "[ 235/4]"
      ]
     },
     "metadata": {},
     "output_type": "display_data"
    },
    {
     "data": {
      "text/html": [
       "<html><script type=\"math/tex; mode=display\">\\newcommand{\\Bold}[1]{\\mathbf{#1}}\\verb|Решения|\\phantom{\\verb!x!}\\verb|совпадают|</script></html>"
      ],
      "text/latex": [
       "\\begin{math}\n",
       "\\newcommand{\\Bold}[1]{\\mathbf{#1}}\\verb|Решения|\\phantom{\\verb!x!}\\verb|совпадают|\n",
       "\\end{math}"
      ],
      "text/plain": [
       "'Решения совпадают'"
      ]
     },
     "metadata": {},
     "output_type": "display_data"
    }
   ],
   "source": [
    "show(\"Проверим решения сверив их с решением полученным стандартной функцией для решения СЛАУ:\")\n",
    "X = A.solve_right(b)\n",
    "show(\"X = \", X)\n",
    "show(\"Решения совпадают\")"
   ]
  },
  {
   "cell_type": "code",
   "execution_count": null,
   "metadata": {},
   "outputs": [],
   "source": []
  }
 ],
 "metadata": {
  "kernelspec": {
   "display_name": "SageMath 9.2",
   "language": "sage",
   "name": "sagemath"
  },
  "language_info": {
   "codemirror_mode": {
    "name": "ipython",
    "version": 3
   },
   "file_extension": ".py",
   "mimetype": "text/x-python",
   "name": "python",
   "nbconvert_exporter": "python",
   "pygments_lexer": "ipython3",
   "version": "3.7.7"
  }
 },
 "nbformat": 4,
 "nbformat_minor": 4
}
