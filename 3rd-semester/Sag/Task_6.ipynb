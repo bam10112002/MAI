{
 "cells": [
  {
   "cell_type": "code",
   "execution_count": 87,
   "metadata": {
    "collapsed": false
   },
   "outputs": [
    {
     "data": {
      "text/html": [
       "<html>\\[\\newcommand{\\Bold}[1]{\\mathbf{#1}}4 x^{8} - 27 x^{7} - 24 x^{6} + 216 x^{5} - 120 x^{4} - 376 x^{3} - 468 x^{2} - 60 x\\]</html>"
      ],
      "text/latex": [
       "$$\\newcommand{\\Bold}[1]{\\mathbf{#1}}4 x^{8} - 27 x^{7} - 24 x^{6} + 216 x^{5} - 120 x^{4} - 376 x^{3} - 468 x^{2} - 60 x$$"
      ],
      "text/plain": [
       "4*x^8 - 27*x^7 - 24*x^6 + 216*x^5 - 120*x^4 - 376*x^3 - 468*x^2 - 60*x"
      ]
     },
     "execution_count": 87,
     "metadata": {
     },
     "output_type": "execute_result"
    },
    {
     "data": {
      "text/html": [
       "<html>\\[\\newcommand{\\Bold}[1]{\\mathbf{#1}}4 x^{6} - 28 x^{4} + 20 x^{3} + 48 x^{2} - 60 x\\]</html>"
      ],
      "text/latex": [
       "$$\\newcommand{\\Bold}[1]{\\mathbf{#1}}4 x^{6} - 28 x^{4} + 20 x^{3} + 48 x^{2} - 60 x$$"
      ],
      "text/plain": [
       "4*x^6 - 28*x^4 + 20*x^3 + 48*x^2 - 60*x"
      ]
     },
     "execution_count": 87,
     "metadata": {
     },
     "output_type": "execute_result"
    }
   ],
   "source": [
    "QQ.<x> = QQ[\"x\"]\n",
    "f = 4*x**8 - 27*x**7 - 24*x**6 + 216*x**5 - 120*x**4 - 376*x**3 - 468*x**2 - 60*x\n",
    "g = 4*x**6 - 28*x**4 + 20*x**3 + 48*x**2 - 60*x\n",
    "show(f(x))\n",
    "show(g(x))"
   ]
  },
  {
   "cell_type": "code",
   "execution_count": 0,
   "metadata": {
    "collapsed": false
   },
   "outputs": [
   ],
   "source": [
    "\n",
    "f_copy = 4*x**8 - 27*x**7 - 24*x**6 + 216*x**5 - 120*x**4 - 376*x**3 - 468*x**2 - 60*x\n",
    "g_copy = 4*x**6 - 28*x**4 + 20*x**3 + 48*x**2 - 60*x\n",
    "\n",
    "# Реализация поиска \n",
    "i = 0\n",
    "while(g_copy != 0):\n",
    "    i = i + 1\n",
    "    q,r=f_cp.quo_rem(g_copy) \n",
    "    f_copy = g_copy\n",
    "    g_copy = r\n",
    "\n",
    "show(\"rez = \", f_copy)"
   ]
  },
  {
   "cell_type": "code",
   "execution_count": 0,
   "metadata": {
    "collapsed": false
   },
   "outputs": [
   ],
   "source": [
    "show(\"т.к. НОД опрделяется с точность до каэфициента можем поделить на коэфициент при наивысшей степени в данном случе 1\")\n",
    "show(\"НОД=\", f_copy)"
   ]
  },
  {
   "cell_type": "code",
   "execution_count": 0,
   "metadata": {
    "collapsed": false
   },
   "outputs": [
   ],
   "source": [
    "rez = gcd(f,g)\n",
    "show(\"gcd rezult = \", rez)\n",
    "if (rez == f_copy):\n",
    "    show(\"Результат полученный функцией gcd совподает с результатом полученным вручную\")\n",
    "    show(rez, \" == \", f_copy)\n",
    "else:\n",
    "    show(\"Что то пошло не так((\")\n"
   ]
  },
  {
   "cell_type": "code",
   "execution_count": 0,
   "metadata": {
    "collapsed": false
   },
   "outputs": [
   ],
   "source": [
   ]
  }
 ],
 "metadata": {
  "kernelspec": {
   "display_name": "SageMath 9.4",
   "language": "sagemath",
   "metadata": {
    "cocalc": {
     "description": "Open-source mathematical software system",
     "priority": 10,
     "url": "https://www.sagemath.org/"
    }
   },
   "name": "sage-9.4",
   "resource_dir": "/ext/jupyter/kernels/sage-9.4"
  },
  "language_info": {
   "codemirror_mode": {
    "name": "ipython",
    "version": 3
   },
   "file_extension": ".py",
   "mimetype": "text/x-python",
   "name": "python",
   "nbconvert_exporter": "python",
   "pygments_lexer": "ipython3",
   "version": "3.9.5"
  }
 },
 "nbformat": 4,
 "nbformat_minor": 4
}