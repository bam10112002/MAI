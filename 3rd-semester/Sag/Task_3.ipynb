{
 "cells": [
  {
   "cell_type": "code",
   "execution_count": 6,
   "metadata": {},
   "outputs": [
    {
     "data": {
      "text/html": [
       "<html><script type=\"math/tex; mode=display\">\\newcommand{\\Bold}[1]{\\mathbf{#1}}\\verb|Task|\\phantom{\\verb!x!}\\verb|3|</script></html>"
      ],
      "text/latex": [
       "\\begin{math}\n",
       "\\newcommand{\\Bold}[1]{\\mathbf{#1}}\\verb|Task|\\phantom{\\verb!x!}\\verb|3|\n",
       "\\end{math}"
      ],
      "text/plain": [
       "'Task 3'"
      ]
     },
     "metadata": {},
     "output_type": "display_data"
    },
    {
     "data": {
      "text/html": [
       "<html><script type=\"math/tex; mode=display\">\\newcommand{\\Bold}[1]{\\mathbf{#1}}\\verb|X| \\left(\\begin{array}{rrr}\n",
       "3 & 8 & 9 \\\\\n",
       "-1 & 0 & 4 \\\\\n",
       "1 & 3 & 1\n",
       "\\end{array}\\right) \\phantom{\\verb!x!}\\verb|=| \\left(\\begin{array}{rrr}\n",
       "-\\frac{8}{3} & -\\frac{17}{3} & -\\frac{17}{3} \\\\\n",
       "-\\frac{17}{3} & -\\frac{11}{3} & -6 \\\\\n",
       "1 & 4 & -\\frac{29}{3}\n",
       "\\end{array}\\right)</script></html>"
      ],
      "text/latex": [
       "\\begin{math}\n",
       "\\newcommand{\\Bold}[1]{\\mathbf{#1}}\\verb|X| \\left(\\begin{array}{rrr}\n",
       "3 & 8 & 9 \\\\\n",
       "-1 & 0 & 4 \\\\\n",
       "1 & 3 & 1\n",
       "\\end{array}\\right) \\phantom{\\verb!x!}\\verb|=| \\left(\\begin{array}{rrr}\n",
       "-\\frac{8}{3} & -\\frac{17}{3} & -\\frac{17}{3} \\\\\n",
       "-\\frac{17}{3} & -\\frac{11}{3} & -6 \\\\\n",
       "1 & 4 & -\\frac{29}{3}\n",
       "\\end{array}\\right)\n",
       "\\end{math}"
      ],
      "text/plain": [
       "'X' [ 3  8  9]\n",
       "[-1  0  4]\n",
       "[ 1  3  1] ' = ' [ -8/3 -17/3 -17/3]\n",
       "[-17/3 -11/3    -6]\n",
       "[    1     4 -29/3]"
      ]
     },
     "metadata": {},
     "output_type": "display_data"
    }
   ],
   "source": [
    "show(\"Task 3\")\n",
    "A, B = var(\"A B\")\n",
    "\n",
    "A = matrix(QQ, [ [3,8,9] , [-1,0,4] , [1,3,1] ])\n",
    "B = matrix(QQ, [ [-2,4,-6], [2,0,-8], [4,4,2] ])\n",
    "B = (B * B) * 1/2\n",
    "B = B - matrix([[2,1,1], [-1,-1,4], [1,0,3]])\n",
    "B = B / 3\n",
    "\n",
    "show(\"X\",A,\" = \", B)"
   ]
  },
  {
   "cell_type": "code",
   "execution_count": 3,
   "metadata": {},
   "outputs": [
    {
     "data": {
      "text/html": [
       "<html><script type=\"math/tex; mode=display\">\\newcommand{\\Bold}[1]{\\mathbf{#1}}\\verb|X|\\phantom{\\verb!x!}\\verb|=| \\left(\\begin{array}{rrr}\n",
       "-\\frac{62}{69} & \\frac{11}{23} & \\frac{35}{69} \\\\\n",
       "-\\frac{203}{69} & \\frac{239}{69} & \\frac{457}{69} \\\\\n",
       "-\\frac{37}{23} & -\\frac{14}{69} & \\frac{388}{69}\n",
       "\\end{array}\\right)</script></html>"
      ],
      "text/latex": [
       "\\begin{math}\n",
       "\\newcommand{\\Bold}[1]{\\mathbf{#1}}\\verb|X|\\phantom{\\verb!x!}\\verb|=| \\left(\\begin{array}{rrr}\n",
       "-\\frac{62}{69} & \\frac{11}{23} & \\frac{35}{69} \\\\\n",
       "-\\frac{203}{69} & \\frac{239}{69} & \\frac{457}{69} \\\\\n",
       "-\\frac{37}{23} & -\\frac{14}{69} & \\frac{388}{69}\n",
       "\\end{array}\\right)\n",
       "\\end{math}"
      ],
      "text/plain": [
       "'X = ' [ -62/69   11/23   35/69]\n",
       "[-203/69  239/69  457/69]\n",
       "[ -37/23  -14/69  388/69]"
      ]
     },
     "metadata": {},
     "output_type": "display_data"
    }
   ],
   "source": [
    "X = B * A.inverse()\n",
    "show(\"X = \",X)"
   ]
  },
  {
   "cell_type": "code",
   "execution_count": null,
   "metadata": {},
   "outputs": [],
   "source": []
  },
  {
   "cell_type": "code",
   "execution_count": null,
   "metadata": {},
   "outputs": [],
   "source": []
  }
 ],
 "metadata": {
  "kernelspec": {
   "display_name": "SageMath 9.2",
   "language": "sage",
   "name": "sagemath"
  },
  "language_info": {
   "codemirror_mode": {
    "name": "ipython",
    "version": 3
   },
   "file_extension": ".py",
   "mimetype": "text/x-python",
   "name": "python",
   "nbconvert_exporter": "python",
   "pygments_lexer": "ipython3",
   "version": "3.7.7"
  }
 },
 "nbformat": 4,
 "nbformat_minor": 4
}
