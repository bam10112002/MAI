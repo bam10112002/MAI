{
 "cells": [
  {
   "cell_type": "markdown",
   "metadata": {
    "collapsed": false
   },
   "source": [
    "<h2>Буловятов Артем Максимович М80-210б-20</h2>\n",
    "<h2>Лабораторная работа No 5: Алгебраические уравнения 4й степени</h2>\n",
    "<p>\n",
    "    Задание<br>\n",
    "Методом Феррари решить заданное уравнение 4й степени.<br>\n",
    "Нарисовать график функции, отметить на нем найденные корни.<br>\n",
    "Комплексные корни представить в алгебраической, тригонометрической и\n",
    "экспоненциальной формах.<br>\n",
    "</p>\n",
    "<b>−3x^4 + 7x^3 − 2x^2 + 15x − 5 = 0</b>"
   ]
  },
  {
   "cell_type": "code",
   "execution_count": 136,
   "metadata": {
    "collapsed": false
   },
   "outputs": [
   ],
   "source": [
    "x = var(\"x\")\n",
    "\n",
    "f_x = -3*x**4 + 7*x**3 - 2*x**2 + 15*x -5;\n",
    "f_copy = f_x\n",
    "f_x = f_x /f_x.coefficients()[4][0]"
   ]
  },
  {
   "cell_type": "code",
   "execution_count": 137,
   "metadata": {
    "collapsed": false
   },
   "outputs": [
    {
     "data": {
      "text/html": [
       "<html>\\[\\newcommand{\\Bold}[1]{\\mathbf{#1}}\\verb|Получаем|\\phantom{\\verb!x!}\\verb|полином|\\phantom{\\verb!x!}\\verb|после|\\phantom{\\verb!x!}\\verb|замены|\\phantom{\\verb!x!}\\verb|x|\\phantom{\\verb!x!}\\verb|=|\\phantom{\\verb!x!}\\verb|y|\\phantom{\\verb!x!}\\verb|-|\\phantom{\\verb!x!}\\verb|caef/4|\\]</html>"
      ],
      "text/latex": [
       "$$\\newcommand{\\Bold}[1]{\\mathbf{#1}}\\verb|Получаем|\\phantom{\\verb!x!}\\verb|полином|\\phantom{\\verb!x!}\\verb|после|\\phantom{\\verb!x!}\\verb|замены|\\phantom{\\verb!x!}\\verb|x|\\phantom{\\verb!x!}\\verb|=|\\phantom{\\verb!x!}\\verb|y|\\phantom{\\verb!x!}\\verb|-|\\phantom{\\verb!x!}\\verb|caef/4|$$"
      ],
      "text/plain": [
       "'Получаем полином после замены x = y - caef/4'"
      ]
     },
     "execution_count": 137,
     "metadata": {
     },
     "output_type": "execute_result"
    },
    {
     "data": {
      "text/html": [
       "<html>\\[\\newcommand{\\Bold}[1]{\\mathbf{#1}}y^{4} - \\frac{11}{8} \\, y^{2} - \\frac{1255}{216} \\, y - \\frac{9473}{6912}\\]</html>"
      ],
      "text/latex": [
       "$$\\newcommand{\\Bold}[1]{\\mathbf{#1}}y^{4} - \\frac{11}{8} \\, y^{2} - \\frac{1255}{216} \\, y - \\frac{9473}{6912}$$"
      ],
      "text/plain": [
       "y^4 - 11/8*y^2 - 1255/216*y - 9473/6912"
      ]
     },
     "execution_count": 137,
     "metadata": {
     },
     "output_type": "execute_result"
    }
   ],
   "source": [
    "y = var(\"y\")\n",
    "caef = f_x.coefficients()[3][0] # каэфициент при x^3\n",
    "polynom = f_x(x = y - caef/4).expand().simplify_full() # замена x =y - 7/4\n",
    "show(\"Получаем полином после замены x = y - caef/4\")\n",
    "show(polynom)"
   ]
  },
  {
   "cell_type": "code",
   "execution_count": 149,
   "metadata": {
    "collapsed": false
   },
   "outputs": [
   ],
   "source": [
    "\n",
    "pqr = {'p':polynom.coefficients()[2][0], 'q': polynom.coefficients()[1][0], 'r': polynom.coefficients()[0][0]}\n",
    "var(\"s p q r\")\n",
    "resolvent = 2*s**3 - p*s**2 - 2*r*s + r*p - q**2/4\n",
    "poly_s_n = resolvent(**pqr)"
   ]
  },
  {
   "cell_type": "code",
   "execution_count": 139,
   "metadata": {
    "collapsed": false
   },
   "outputs": [
   ],
   "source": [
    "sols = solve(poly_s_n, s)  \n",
    "s_0 = sols[2].rhs()"
   ]
  },
  {
   "cell_type": "code",
   "execution_count": 140,
   "metadata": {
    "collapsed": false
   },
   "outputs": [
   ],
   "source": [
    "var(\"y s p q\")\n",
    "poly_y_1 = y**2 - y*sqrt(2*s - p) + q/(2*sqrt(2*s - p)) + s\n",
    "poly_y_2 = y**2 + y*sqrt(2*s - p) - q/(2*sqrt(2*s - p)) + s\n",
    "\n",
    "poly_y_1_n = poly_y_1(**pqr, s=s_0)\n",
    "poly_y_2_n = poly_y_2(**pqr, s=s_0)\n",
    "\n",
    "sols = solve(poly_y_1_n, y)\n",
    "sols.extend(solve(poly_y_2_n, y))"
   ]
  },
  {
   "cell_type": "code",
   "execution_count": 141,
   "metadata": {
    "collapsed": false
   },
   "outputs": [
   ],
   "source": [
    "def trigonometric_representation(z):\n",
    "    phi = atan2(z.imag(), z.real()).n(digits=4)\n",
    "    z_abs = z.abs().n(digits=4)\n",
    "    z_trig = z_abs*(cos(phi, hold=True) + I*sin(phi, hold=True))\n",
    "    return z_trig\n",
    "    \n",
    "def exponential_representation(z):\n",
    "    phi = atan2(z.imag(), z.real()).n(digits=4)\n",
    "    z_abs = z.abs().n(digits=4)\n",
    "    z_exp = f\"{z_abs}\" + r\"\\cdot e^{\" + f\"{phi}\" + r\"\\cdot i}\"\n",
    "    return z_exp"
   ]
  },
  {
   "cell_type": "code",
   "execution_count": 148,
   "metadata": {
    "collapsed": false
   },
   "outputs": [
    {
     "data": {
      "text/html": [
       "Решения уровнения:    -3*x^4 + 7*x^3 - 2*x^2 + 15*x - 5 = 0"
      ],
      "text/plain": [
       "Решения уровнения:    -3*x^4 + 7*x^3 - 2*x^2 + 15*x - 5 = 0"
      ]
     },
     "execution_count": 148,
     "metadata": {
     },
     "output_type": "execute_result"
    },
    {
     "data": {
      "text/html": [
       "<html>\\[\\newcommand{\\Bold}[1]{\\mathbf{#1}}\\]</html>"
      ],
      "text/latex": [
       "$$\\newcommand{\\Bold}[1]{\\mathbf{#1}}$$"
      ],
      "text/plain": [
       "''"
      ]
     },
     "execution_count": 148,
     "metadata": {
     },
     "output_type": "execute_result"
    },
    {
     "data": {
      "text/html": [
       "x<sub>\\(0\\)</sub> = \\(1.363*cos(-1.827) + 1.363*I*sin(-1.827)\\)"
      ],
      "text/plain": [
       "x<sub>\\(0\\)</sub> = \\(1.363*cos(-1.827) + 1.363*I*sin(-1.827)\\)"
      ]
     },
     "execution_count": 148,
     "metadata": {
     },
     "output_type": "execute_result"
    },
    {
     "data": {
      "text/html": [
       "x<sub>\\(0\\)</sub> = \\(1.363\\cdot e^{-1.827\\cdot i}\\)"
      ],
      "text/plain": [
       "x<sub>\\(0\\)</sub> = \\(1.363\\cdot e^{-1.827\\cdot i}\\)"
      ]
     },
     "execution_count": 148,
     "metadata": {
     },
     "output_type": "execute_result"
    },
    {
     "data": {
      "text/html": [
       "<html>\\[\\newcommand{\\Bold}[1]{\\mathbf{#1}}\\]</html>"
      ],
      "text/latex": [
       "$$\\newcommand{\\Bold}[1]{\\mathbf{#1}}$$"
      ],
      "text/plain": [
       "''"
      ]
     },
     "execution_count": 148,
     "metadata": {
     },
     "output_type": "execute_result"
    },
    {
     "data": {
      "text/html": [
       "x<sub>\\(1\\)</sub> = \\(1.363*cos(1.827) + 1.363*I*sin(1.827)\\)"
      ],
      "text/plain": [
       "x<sub>\\(1\\)</sub> = \\(1.363*cos(1.827) + 1.363*I*sin(1.827)\\)"
      ]
     },
     "execution_count": 148,
     "metadata": {
     },
     "output_type": "execute_result"
    },
    {
     "data": {
      "text/html": [
       "x<sub>\\(1\\)</sub> = \\(1.363\\cdot e^{1.827\\cdot i}\\)"
      ],
      "text/plain": [
       "x<sub>\\(1\\)</sub> = \\(1.363\\cdot e^{1.827\\cdot i}\\)"
      ]
     },
     "execution_count": 148,
     "metadata": {
     },
     "output_type": "execute_result"
    },
    {
     "data": {
      "text/html": [
       "<html>\\[\\newcommand{\\Bold}[1]{\\mathbf{#1}}\\]</html>"
      ],
      "text/latex": [
       "$$\\newcommand{\\Bold}[1]{\\mathbf{#1}}$$"
      ],
      "text/plain": [
       "''"
      ]
     },
     "execution_count": 148,
     "metadata": {
     },
     "output_type": "execute_result"
    },
    {
     "data": {
      "text/html": [
       "x<sub>\\(2\\)</sub> = \\(2.691\\)"
      ],
      "text/plain": [
       "x<sub>\\(2\\)</sub> = \\(2.691\\)"
      ]
     },
     "execution_count": 148,
     "metadata": {
     },
     "output_type": "execute_result"
    },
    {
     "data": {
      "text/html": [
       "<html>\\[\\newcommand{\\Bold}[1]{\\mathbf{#1}}\\]</html>"
      ],
      "text/latex": [
       "$$\\newcommand{\\Bold}[1]{\\mathbf{#1}}$$"
      ],
      "text/plain": [
       "''"
      ]
     },
     "execution_count": 148,
     "metadata": {
     },
     "output_type": "execute_result"
    },
    {
     "data": {
      "text/html": [
       "x<sub>\\(3\\)</sub> = \\(0.3333\\)"
      ],
      "text/plain": [
       "x<sub>\\(3\\)</sub> = \\(0.3333\\)"
      ]
     },
     "execution_count": 148,
     "metadata": {
     },
     "output_type": "execute_result"
    },
    {
     "data": {
      "image/png": "[encoded data removed]",
      "text/plain": [
       "Graphics object consisting of 3 graphics primitives"
      ]
     },
     "execution_count": 148,
     "metadata": {
     },
     "output_type": "execute_result"
    }
   ],
   "source": [
    "sols = solve(f_x, x)\n",
    "graf = plot(f_copy, xmin=-5, xmax=5, ymin=-5, ymax=30)\n",
    "#show(graf)\n",
    "show(html(f\"Решения уровнения:    {f_copy} = 0\"))\n",
    "for i, sol in enumerate(sols):\n",
    "    a = sol.rhs()\n",
    "    show(\"\")\n",
    "    if a.n(digits=4).imag() == 0:\n",
    "        graf += point((a, 0), size = 40, color = 'red')\n",
    "        show(html(f\"x<sub>${i}$</sub> = ${a.n(digits=4)}$\"))\n",
    "    else:\n",
    "        phi = atan2(a.imag(), a.real()).n(digits=4)\n",
    "        z_abs = a.abs().n(digits=4)\n",
    "        z_trig = z_abs*(cos(phi, hold=True) + I*sin(phi, hold=True))\n",
    "        show(html(f\"x<sub>${i}$</sub> = ${z_trig}$\"))\n",
    "        \n",
    "        phi = atan2(a.imag(), a.real()).n(digits=4)\n",
    "        z_abs = a.abs().n(digits=4)\n",
    "        z_exp = f\"{z_abs}\" + r\"\\cdot e^{\" + f\"{phi}\" + r\"\\cdot i}\"\n",
    "        show(html(f\"x<sub>${i}$</sub> = ${z_exp}$\"))\n",
    "show(graf)"
   ]
  },
  {
   "cell_type": "code",
   "execution_count": 0,
   "metadata": {
    "collapsed": false
   },
   "outputs": [
   ],
   "source": [
   ]
  }
 ],
 "metadata": {
  "kernelspec": {
   "display_name": "SageMath 9.4",
   "language": "sagemath",
   "metadata": {
    "cocalc": {
     "description": "Open-source mathematical software system",
     "priority": 10,
     "url": "https://www.sagemath.org/"
    }
   },
   "name": "sage-9.4",
   "resource_dir": "/ext/jupyter/kernels/sage-9.4"
  },
  "language_info": {
   "codemirror_mode": {
    "name": "ipython",
    "version": 3
   },
   "file_extension": ".py",
   "mimetype": "text/x-python",
   "name": "python",
   "nbconvert_exporter": "python",
   "pygments_lexer": "ipython3",
   "version": "3.9.5"
  }
 },
 "nbformat": 4,
 "nbformat_minor": 4
}